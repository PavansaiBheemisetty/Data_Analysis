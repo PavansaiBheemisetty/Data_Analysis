{
 "cells": [
  {
   "cell_type": "markdown",
   "id": "5714243a",
   "metadata": {
    "papermill": {
     "duration": 0.01232,
     "end_time": "2023-06-24T14:20:42.795821",
     "exception": false,
     "start_time": "2023-06-24T14:20:42.783501",
     "status": "completed"
    },
    "tags": []
   },
   "source": [
    "### Importing libraries"
   ]
  },
  {
   "cell_type": "code",
   "execution_count": 1,
   "id": "fa0082ad",
   "metadata": {
    "execution": {
     "iopub.execute_input": "2023-06-24T14:20:42.821750Z",
     "iopub.status.busy": "2023-06-24T14:20:42.820922Z",
     "iopub.status.idle": "2023-06-24T14:20:44.292121Z",
     "shell.execute_reply": "2023-06-24T14:20:44.290924Z"
    },
    "papermill": {
     "duration": 1.487199,
     "end_time": "2023-06-24T14:20:44.294932",
     "exception": false,
     "start_time": "2023-06-24T14:20:42.807733",
     "status": "completed"
    },
    "tags": []
   },
   "outputs": [],
   "source": [
    "import pandas as pd\n",
    "import matplotlib.pyplot as plt\n",
    "import seaborn as sns\n",
    "import numpy as np"
   ]
  },
  {
   "cell_type": "markdown",
   "id": "67395a33",
   "metadata": {
    "papermill": {
     "duration": 0.011318,
     "end_time": "2023-06-24T14:20:44.318067",
     "exception": false,
     "start_time": "2023-06-24T14:20:44.306749",
     "status": "completed"
    },
    "tags": []
   },
   "source": [
    "### Reading DataSet (check format of Dataset like csv,xlsx...)"
   ]
  },
  {
   "cell_type": "code",
   "execution_count": 2,
   "id": "5881fcde",
   "metadata": {
    "execution": {
     "iopub.execute_input": "2023-06-24T14:20:44.343370Z",
     "iopub.status.busy": "2023-06-24T14:20:44.342955Z",
     "iopub.status.idle": "2023-06-24T14:20:44.448580Z",
     "shell.execute_reply": "2023-06-24T14:20:44.447026Z"
    },
    "papermill": {
     "duration": 0.121455,
     "end_time": "2023-06-24T14:20:44.451213",
     "exception": false,
     "start_time": "2023-06-24T14:20:44.329758",
     "status": "completed"
    },
    "tags": []
   },
   "outputs": [
    {
     "data": {
      "text/html": [
       "<div>\n",
       "<style scoped>\n",
       "    .dataframe tbody tr th:only-of-type {\n",
       "        vertical-align: middle;\n",
       "    }\n",
       "\n",
       "    .dataframe tbody tr th {\n",
       "        vertical-align: top;\n",
       "    }\n",
       "\n",
       "    .dataframe thead th {\n",
       "        text-align: right;\n",
       "    }\n",
       "</style>\n",
       "<table border=\"1\" class=\"dataframe\">\n",
       "  <thead>\n",
       "    <tr style=\"text-align: right;\">\n",
       "      <th></th>\n",
       "      <th>Unnamed: 0</th>\n",
       "      <th>carat</th>\n",
       "      <th>cut</th>\n",
       "      <th>color</th>\n",
       "      <th>clarity</th>\n",
       "      <th>depth</th>\n",
       "      <th>table</th>\n",
       "      <th>x</th>\n",
       "      <th>y</th>\n",
       "      <th>z</th>\n",
       "      <th>price</th>\n",
       "    </tr>\n",
       "  </thead>\n",
       "  <tbody>\n",
       "    <tr>\n",
       "      <th>0</th>\n",
       "      <td>1</td>\n",
       "      <td>0.30</td>\n",
       "      <td>Ideal</td>\n",
       "      <td>E</td>\n",
       "      <td>SI1</td>\n",
       "      <td>62.1</td>\n",
       "      <td>58.0</td>\n",
       "      <td>4.27</td>\n",
       "      <td>4.29</td>\n",
       "      <td>2.66</td>\n",
       "      <td>499</td>\n",
       "    </tr>\n",
       "    <tr>\n",
       "      <th>1</th>\n",
       "      <td>2</td>\n",
       "      <td>0.33</td>\n",
       "      <td>Premium</td>\n",
       "      <td>G</td>\n",
       "      <td>IF</td>\n",
       "      <td>60.8</td>\n",
       "      <td>58.0</td>\n",
       "      <td>4.42</td>\n",
       "      <td>4.46</td>\n",
       "      <td>2.70</td>\n",
       "      <td>984</td>\n",
       "    </tr>\n",
       "    <tr>\n",
       "      <th>2</th>\n",
       "      <td>3</td>\n",
       "      <td>0.90</td>\n",
       "      <td>Very Good</td>\n",
       "      <td>E</td>\n",
       "      <td>VVS2</td>\n",
       "      <td>62.2</td>\n",
       "      <td>60.0</td>\n",
       "      <td>6.04</td>\n",
       "      <td>6.12</td>\n",
       "      <td>3.78</td>\n",
       "      <td>6289</td>\n",
       "    </tr>\n",
       "    <tr>\n",
       "      <th>3</th>\n",
       "      <td>4</td>\n",
       "      <td>0.42</td>\n",
       "      <td>Ideal</td>\n",
       "      <td>F</td>\n",
       "      <td>VS1</td>\n",
       "      <td>61.6</td>\n",
       "      <td>56.0</td>\n",
       "      <td>4.82</td>\n",
       "      <td>4.80</td>\n",
       "      <td>2.96</td>\n",
       "      <td>1082</td>\n",
       "    </tr>\n",
       "    <tr>\n",
       "      <th>4</th>\n",
       "      <td>5</td>\n",
       "      <td>0.31</td>\n",
       "      <td>Ideal</td>\n",
       "      <td>F</td>\n",
       "      <td>VVS1</td>\n",
       "      <td>60.4</td>\n",
       "      <td>59.0</td>\n",
       "      <td>4.35</td>\n",
       "      <td>4.43</td>\n",
       "      <td>2.65</td>\n",
       "      <td>779</td>\n",
       "    </tr>\n",
       "    <tr>\n",
       "      <th>...</th>\n",
       "      <td>...</td>\n",
       "      <td>...</td>\n",
       "      <td>...</td>\n",
       "      <td>...</td>\n",
       "      <td>...</td>\n",
       "      <td>...</td>\n",
       "      <td>...</td>\n",
       "      <td>...</td>\n",
       "      <td>...</td>\n",
       "      <td>...</td>\n",
       "      <td>...</td>\n",
       "    </tr>\n",
       "    <tr>\n",
       "      <th>26962</th>\n",
       "      <td>26963</td>\n",
       "      <td>1.11</td>\n",
       "      <td>Premium</td>\n",
       "      <td>G</td>\n",
       "      <td>SI1</td>\n",
       "      <td>62.3</td>\n",
       "      <td>58.0</td>\n",
       "      <td>6.61</td>\n",
       "      <td>6.52</td>\n",
       "      <td>4.09</td>\n",
       "      <td>5408</td>\n",
       "    </tr>\n",
       "    <tr>\n",
       "      <th>26963</th>\n",
       "      <td>26964</td>\n",
       "      <td>0.33</td>\n",
       "      <td>Ideal</td>\n",
       "      <td>H</td>\n",
       "      <td>IF</td>\n",
       "      <td>61.9</td>\n",
       "      <td>55.0</td>\n",
       "      <td>4.44</td>\n",
       "      <td>4.42</td>\n",
       "      <td>2.74</td>\n",
       "      <td>1114</td>\n",
       "    </tr>\n",
       "    <tr>\n",
       "      <th>26964</th>\n",
       "      <td>26965</td>\n",
       "      <td>0.51</td>\n",
       "      <td>Premium</td>\n",
       "      <td>E</td>\n",
       "      <td>VS2</td>\n",
       "      <td>61.7</td>\n",
       "      <td>58.0</td>\n",
       "      <td>5.12</td>\n",
       "      <td>5.15</td>\n",
       "      <td>3.17</td>\n",
       "      <td>1656</td>\n",
       "    </tr>\n",
       "    <tr>\n",
       "      <th>26965</th>\n",
       "      <td>26966</td>\n",
       "      <td>0.27</td>\n",
       "      <td>Very Good</td>\n",
       "      <td>F</td>\n",
       "      <td>VVS2</td>\n",
       "      <td>61.8</td>\n",
       "      <td>56.0</td>\n",
       "      <td>4.19</td>\n",
       "      <td>4.20</td>\n",
       "      <td>2.60</td>\n",
       "      <td>682</td>\n",
       "    </tr>\n",
       "    <tr>\n",
       "      <th>26966</th>\n",
       "      <td>26967</td>\n",
       "      <td>1.25</td>\n",
       "      <td>Premium</td>\n",
       "      <td>J</td>\n",
       "      <td>SI1</td>\n",
       "      <td>62.0</td>\n",
       "      <td>58.0</td>\n",
       "      <td>6.90</td>\n",
       "      <td>6.88</td>\n",
       "      <td>4.27</td>\n",
       "      <td>5166</td>\n",
       "    </tr>\n",
       "  </tbody>\n",
       "</table>\n",
       "<p>26967 rows × 11 columns</p>\n",
       "</div>"
      ],
      "text/plain": [
       "       Unnamed: 0  carat        cut color clarity  depth  table     x     y  \\\n",
       "0               1   0.30      Ideal     E     SI1   62.1   58.0  4.27  4.29   \n",
       "1               2   0.33    Premium     G      IF   60.8   58.0  4.42  4.46   \n",
       "2               3   0.90  Very Good     E    VVS2   62.2   60.0  6.04  6.12   \n",
       "3               4   0.42      Ideal     F     VS1   61.6   56.0  4.82  4.80   \n",
       "4               5   0.31      Ideal     F    VVS1   60.4   59.0  4.35  4.43   \n",
       "...           ...    ...        ...   ...     ...    ...    ...   ...   ...   \n",
       "26962       26963   1.11    Premium     G     SI1   62.3   58.0  6.61  6.52   \n",
       "26963       26964   0.33      Ideal     H      IF   61.9   55.0  4.44  4.42   \n",
       "26964       26965   0.51    Premium     E     VS2   61.7   58.0  5.12  5.15   \n",
       "26965       26966   0.27  Very Good     F    VVS2   61.8   56.0  4.19  4.20   \n",
       "26966       26967   1.25    Premium     J     SI1   62.0   58.0  6.90  6.88   \n",
       "\n",
       "          z  price  \n",
       "0      2.66    499  \n",
       "1      2.70    984  \n",
       "2      3.78   6289  \n",
       "3      2.96   1082  \n",
       "4      2.65    779  \n",
       "...     ...    ...  \n",
       "26962  4.09   5408  \n",
       "26963  2.74   1114  \n",
       "26964  3.17   1656  \n",
       "26965  2.60    682  \n",
       "26966  4.27   5166  \n",
       "\n",
       "[26967 rows x 11 columns]"
      ]
     },
     "execution_count": 2,
     "metadata": {},
     "output_type": "execute_result"
    }
   ],
   "source": [
    "path = '/kaggle/input/gemstone-price-prediction/cubic_zirconia.csv'\n",
    "df = pd.read_csv(path)\n",
    "df\n"
   ]
  },
  {
   "cell_type": "markdown",
   "id": "bda94b5a",
   "metadata": {
    "papermill": {
     "duration": 0.012746,
     "end_time": "2023-06-24T14:20:44.476459",
     "exception": false,
     "start_time": "2023-06-24T14:20:44.463713",
     "status": "completed"
    },
    "tags": []
   },
   "source": [
    "### Viewing DataSet\n",
    "### Check what are dependent and indepndent columns"
   ]
  },
  {
   "cell_type": "code",
   "execution_count": 3,
   "id": "ebada71b",
   "metadata": {
    "execution": {
     "iopub.execute_input": "2023-06-24T14:20:44.506366Z",
     "iopub.status.busy": "2023-06-24T14:20:44.505918Z",
     "iopub.status.idle": "2023-06-24T14:20:44.526747Z",
     "shell.execute_reply": "2023-06-24T14:20:44.525433Z"
    },
    "papermill": {
     "duration": 0.039699,
     "end_time": "2023-06-24T14:20:44.530277",
     "exception": false,
     "start_time": "2023-06-24T14:20:44.490578",
     "status": "completed"
    },
    "tags": []
   },
   "outputs": [
    {
     "data": {
      "text/html": [
       "<div>\n",
       "<style scoped>\n",
       "    .dataframe tbody tr th:only-of-type {\n",
       "        vertical-align: middle;\n",
       "    }\n",
       "\n",
       "    .dataframe tbody tr th {\n",
       "        vertical-align: top;\n",
       "    }\n",
       "\n",
       "    .dataframe thead th {\n",
       "        text-align: right;\n",
       "    }\n",
       "</style>\n",
       "<table border=\"1\" class=\"dataframe\">\n",
       "  <thead>\n",
       "    <tr style=\"text-align: right;\">\n",
       "      <th></th>\n",
       "      <th>Unnamed: 0</th>\n",
       "      <th>carat</th>\n",
       "      <th>cut</th>\n",
       "      <th>color</th>\n",
       "      <th>clarity</th>\n",
       "      <th>depth</th>\n",
       "      <th>table</th>\n",
       "      <th>x</th>\n",
       "      <th>y</th>\n",
       "      <th>z</th>\n",
       "      <th>price</th>\n",
       "    </tr>\n",
       "  </thead>\n",
       "  <tbody>\n",
       "    <tr>\n",
       "      <th>0</th>\n",
       "      <td>1</td>\n",
       "      <td>0.30</td>\n",
       "      <td>Ideal</td>\n",
       "      <td>E</td>\n",
       "      <td>SI1</td>\n",
       "      <td>62.1</td>\n",
       "      <td>58.0</td>\n",
       "      <td>4.27</td>\n",
       "      <td>4.29</td>\n",
       "      <td>2.66</td>\n",
       "      <td>499</td>\n",
       "    </tr>\n",
       "    <tr>\n",
       "      <th>1</th>\n",
       "      <td>2</td>\n",
       "      <td>0.33</td>\n",
       "      <td>Premium</td>\n",
       "      <td>G</td>\n",
       "      <td>IF</td>\n",
       "      <td>60.8</td>\n",
       "      <td>58.0</td>\n",
       "      <td>4.42</td>\n",
       "      <td>4.46</td>\n",
       "      <td>2.70</td>\n",
       "      <td>984</td>\n",
       "    </tr>\n",
       "    <tr>\n",
       "      <th>2</th>\n",
       "      <td>3</td>\n",
       "      <td>0.90</td>\n",
       "      <td>Very Good</td>\n",
       "      <td>E</td>\n",
       "      <td>VVS2</td>\n",
       "      <td>62.2</td>\n",
       "      <td>60.0</td>\n",
       "      <td>6.04</td>\n",
       "      <td>6.12</td>\n",
       "      <td>3.78</td>\n",
       "      <td>6289</td>\n",
       "    </tr>\n",
       "    <tr>\n",
       "      <th>3</th>\n",
       "      <td>4</td>\n",
       "      <td>0.42</td>\n",
       "      <td>Ideal</td>\n",
       "      <td>F</td>\n",
       "      <td>VS1</td>\n",
       "      <td>61.6</td>\n",
       "      <td>56.0</td>\n",
       "      <td>4.82</td>\n",
       "      <td>4.80</td>\n",
       "      <td>2.96</td>\n",
       "      <td>1082</td>\n",
       "    </tr>\n",
       "    <tr>\n",
       "      <th>4</th>\n",
       "      <td>5</td>\n",
       "      <td>0.31</td>\n",
       "      <td>Ideal</td>\n",
       "      <td>F</td>\n",
       "      <td>VVS1</td>\n",
       "      <td>60.4</td>\n",
       "      <td>59.0</td>\n",
       "      <td>4.35</td>\n",
       "      <td>4.43</td>\n",
       "      <td>2.65</td>\n",
       "      <td>779</td>\n",
       "    </tr>\n",
       "  </tbody>\n",
       "</table>\n",
       "</div>"
      ],
      "text/plain": [
       "   Unnamed: 0  carat        cut color clarity  depth  table     x     y     z  \\\n",
       "0           1   0.30      Ideal     E     SI1   62.1   58.0  4.27  4.29  2.66   \n",
       "1           2   0.33    Premium     G      IF   60.8   58.0  4.42  4.46  2.70   \n",
       "2           3   0.90  Very Good     E    VVS2   62.2   60.0  6.04  6.12  3.78   \n",
       "3           4   0.42      Ideal     F     VS1   61.6   56.0  4.82  4.80  2.96   \n",
       "4           5   0.31      Ideal     F    VVS1   60.4   59.0  4.35  4.43  2.65   \n",
       "\n",
       "   price  \n",
       "0    499  \n",
       "1    984  \n",
       "2   6289  \n",
       "3   1082  \n",
       "4    779  "
      ]
     },
     "execution_count": 3,
     "metadata": {},
     "output_type": "execute_result"
    }
   ],
   "source": [
    "df.head()"
   ]
  },
  {
   "cell_type": "markdown",
   "id": "d9765285",
   "metadata": {
    "papermill": {
     "duration": 0.012467,
     "end_time": "2023-06-24T14:20:44.557420",
     "exception": false,
     "start_time": "2023-06-24T14:20:44.544953",
     "status": "completed"
    },
    "tags": []
   },
   "source": [
    "## Gives the inforamtion on data set.\n",
    "\n",
    "### 1. How many columns are present.\n",
    "### 2. What are the different datatypes that are present in different columns[Numerical or Categorical]\n",
    "### 3. Check the number of entries present (this many rows are present in the dataset).\n",
    "### 4. If there are any null values present in the data set.\n",
    "\n"
   ]
  },
  {
   "cell_type": "code",
   "execution_count": 4,
   "id": "eabba8e8",
   "metadata": {
    "execution": {
     "iopub.execute_input": "2023-06-24T14:20:44.589679Z",
     "iopub.status.busy": "2023-06-24T14:20:44.588988Z",
     "iopub.status.idle": "2023-06-24T14:20:44.623842Z",
     "shell.execute_reply": "2023-06-24T14:20:44.622417Z"
    },
    "papermill": {
     "duration": 0.055072,
     "end_time": "2023-06-24T14:20:44.626667",
     "exception": false,
     "start_time": "2023-06-24T14:20:44.571595",
     "status": "completed"
    },
    "tags": []
   },
   "outputs": [
    {
     "name": "stdout",
     "output_type": "stream",
     "text": [
      "<class 'pandas.core.frame.DataFrame'>\n",
      "RangeIndex: 26967 entries, 0 to 26966\n",
      "Data columns (total 11 columns):\n",
      " #   Column      Non-Null Count  Dtype  \n",
      "---  ------      --------------  -----  \n",
      " 0   Unnamed: 0  26967 non-null  int64  \n",
      " 1   carat       26967 non-null  float64\n",
      " 2   cut         26967 non-null  object \n",
      " 3   color       26967 non-null  object \n",
      " 4   clarity     26967 non-null  object \n",
      " 5   depth       26270 non-null  float64\n",
      " 6   table       26967 non-null  float64\n",
      " 7   x           26967 non-null  float64\n",
      " 8   y           26967 non-null  float64\n",
      " 9   z           26967 non-null  float64\n",
      " 10  price       26967 non-null  int64  \n",
      "dtypes: float64(6), int64(2), object(3)\n",
      "memory usage: 2.3+ MB\n"
     ]
    }
   ],
   "source": [
    "df.info()"
   ]
  },
  {
   "cell_type": "markdown",
   "id": "37aa28c6",
   "metadata": {
    "papermill": {
     "duration": 0.011943,
     "end_time": "2023-06-24T14:20:44.651227",
     "exception": false,
     "start_time": "2023-06-24T14:20:44.639284",
     "status": "completed"
    },
    "tags": []
   },
   "source": [
    "### Unnamed column consits of all unq values it is not much informative so we will drop"
   ]
  },
  {
   "cell_type": "code",
   "execution_count": 5,
   "id": "56815da4",
   "metadata": {
    "execution": {
     "iopub.execute_input": "2023-06-24T14:20:44.677463Z",
     "iopub.status.busy": "2023-06-24T14:20:44.677057Z",
     "iopub.status.idle": "2023-06-24T14:20:44.702585Z",
     "shell.execute_reply": "2023-06-24T14:20:44.701450Z"
    },
    "papermill": {
     "duration": 0.042019,
     "end_time": "2023-06-24T14:20:44.705404",
     "exception": false,
     "start_time": "2023-06-24T14:20:44.663385",
     "status": "completed"
    },
    "tags": []
   },
   "outputs": [
    {
     "data": {
      "text/html": [
       "<div>\n",
       "<style scoped>\n",
       "    .dataframe tbody tr th:only-of-type {\n",
       "        vertical-align: middle;\n",
       "    }\n",
       "\n",
       "    .dataframe tbody tr th {\n",
       "        vertical-align: top;\n",
       "    }\n",
       "\n",
       "    .dataframe thead th {\n",
       "        text-align: right;\n",
       "    }\n",
       "</style>\n",
       "<table border=\"1\" class=\"dataframe\">\n",
       "  <thead>\n",
       "    <tr style=\"text-align: right;\">\n",
       "      <th></th>\n",
       "      <th>carat</th>\n",
       "      <th>cut</th>\n",
       "      <th>color</th>\n",
       "      <th>clarity</th>\n",
       "      <th>depth</th>\n",
       "      <th>table</th>\n",
       "      <th>x</th>\n",
       "      <th>y</th>\n",
       "      <th>z</th>\n",
       "      <th>price</th>\n",
       "    </tr>\n",
       "  </thead>\n",
       "  <tbody>\n",
       "    <tr>\n",
       "      <th>0</th>\n",
       "      <td>0.30</td>\n",
       "      <td>Ideal</td>\n",
       "      <td>E</td>\n",
       "      <td>SI1</td>\n",
       "      <td>62.1</td>\n",
       "      <td>58.0</td>\n",
       "      <td>4.27</td>\n",
       "      <td>4.29</td>\n",
       "      <td>2.66</td>\n",
       "      <td>499</td>\n",
       "    </tr>\n",
       "    <tr>\n",
       "      <th>1</th>\n",
       "      <td>0.33</td>\n",
       "      <td>Premium</td>\n",
       "      <td>G</td>\n",
       "      <td>IF</td>\n",
       "      <td>60.8</td>\n",
       "      <td>58.0</td>\n",
       "      <td>4.42</td>\n",
       "      <td>4.46</td>\n",
       "      <td>2.70</td>\n",
       "      <td>984</td>\n",
       "    </tr>\n",
       "    <tr>\n",
       "      <th>2</th>\n",
       "      <td>0.90</td>\n",
       "      <td>Very Good</td>\n",
       "      <td>E</td>\n",
       "      <td>VVS2</td>\n",
       "      <td>62.2</td>\n",
       "      <td>60.0</td>\n",
       "      <td>6.04</td>\n",
       "      <td>6.12</td>\n",
       "      <td>3.78</td>\n",
       "      <td>6289</td>\n",
       "    </tr>\n",
       "    <tr>\n",
       "      <th>3</th>\n",
       "      <td>0.42</td>\n",
       "      <td>Ideal</td>\n",
       "      <td>F</td>\n",
       "      <td>VS1</td>\n",
       "      <td>61.6</td>\n",
       "      <td>56.0</td>\n",
       "      <td>4.82</td>\n",
       "      <td>4.80</td>\n",
       "      <td>2.96</td>\n",
       "      <td>1082</td>\n",
       "    </tr>\n",
       "    <tr>\n",
       "      <th>4</th>\n",
       "      <td>0.31</td>\n",
       "      <td>Ideal</td>\n",
       "      <td>F</td>\n",
       "      <td>VVS1</td>\n",
       "      <td>60.4</td>\n",
       "      <td>59.0</td>\n",
       "      <td>4.35</td>\n",
       "      <td>4.43</td>\n",
       "      <td>2.65</td>\n",
       "      <td>779</td>\n",
       "    </tr>\n",
       "    <tr>\n",
       "      <th>...</th>\n",
       "      <td>...</td>\n",
       "      <td>...</td>\n",
       "      <td>...</td>\n",
       "      <td>...</td>\n",
       "      <td>...</td>\n",
       "      <td>...</td>\n",
       "      <td>...</td>\n",
       "      <td>...</td>\n",
       "      <td>...</td>\n",
       "      <td>...</td>\n",
       "    </tr>\n",
       "    <tr>\n",
       "      <th>26962</th>\n",
       "      <td>1.11</td>\n",
       "      <td>Premium</td>\n",
       "      <td>G</td>\n",
       "      <td>SI1</td>\n",
       "      <td>62.3</td>\n",
       "      <td>58.0</td>\n",
       "      <td>6.61</td>\n",
       "      <td>6.52</td>\n",
       "      <td>4.09</td>\n",
       "      <td>5408</td>\n",
       "    </tr>\n",
       "    <tr>\n",
       "      <th>26963</th>\n",
       "      <td>0.33</td>\n",
       "      <td>Ideal</td>\n",
       "      <td>H</td>\n",
       "      <td>IF</td>\n",
       "      <td>61.9</td>\n",
       "      <td>55.0</td>\n",
       "      <td>4.44</td>\n",
       "      <td>4.42</td>\n",
       "      <td>2.74</td>\n",
       "      <td>1114</td>\n",
       "    </tr>\n",
       "    <tr>\n",
       "      <th>26964</th>\n",
       "      <td>0.51</td>\n",
       "      <td>Premium</td>\n",
       "      <td>E</td>\n",
       "      <td>VS2</td>\n",
       "      <td>61.7</td>\n",
       "      <td>58.0</td>\n",
       "      <td>5.12</td>\n",
       "      <td>5.15</td>\n",
       "      <td>3.17</td>\n",
       "      <td>1656</td>\n",
       "    </tr>\n",
       "    <tr>\n",
       "      <th>26965</th>\n",
       "      <td>0.27</td>\n",
       "      <td>Very Good</td>\n",
       "      <td>F</td>\n",
       "      <td>VVS2</td>\n",
       "      <td>61.8</td>\n",
       "      <td>56.0</td>\n",
       "      <td>4.19</td>\n",
       "      <td>4.20</td>\n",
       "      <td>2.60</td>\n",
       "      <td>682</td>\n",
       "    </tr>\n",
       "    <tr>\n",
       "      <th>26966</th>\n",
       "      <td>1.25</td>\n",
       "      <td>Premium</td>\n",
       "      <td>J</td>\n",
       "      <td>SI1</td>\n",
       "      <td>62.0</td>\n",
       "      <td>58.0</td>\n",
       "      <td>6.90</td>\n",
       "      <td>6.88</td>\n",
       "      <td>4.27</td>\n",
       "      <td>5166</td>\n",
       "    </tr>\n",
       "  </tbody>\n",
       "</table>\n",
       "<p>26967 rows × 10 columns</p>\n",
       "</div>"
      ],
      "text/plain": [
       "       carat        cut color clarity  depth  table     x     y     z  price\n",
       "0       0.30      Ideal     E     SI1   62.1   58.0  4.27  4.29  2.66    499\n",
       "1       0.33    Premium     G      IF   60.8   58.0  4.42  4.46  2.70    984\n",
       "2       0.90  Very Good     E    VVS2   62.2   60.0  6.04  6.12  3.78   6289\n",
       "3       0.42      Ideal     F     VS1   61.6   56.0  4.82  4.80  2.96   1082\n",
       "4       0.31      Ideal     F    VVS1   60.4   59.0  4.35  4.43  2.65    779\n",
       "...      ...        ...   ...     ...    ...    ...   ...   ...   ...    ...\n",
       "26962   1.11    Premium     G     SI1   62.3   58.0  6.61  6.52  4.09   5408\n",
       "26963   0.33      Ideal     H      IF   61.9   55.0  4.44  4.42  2.74   1114\n",
       "26964   0.51    Premium     E     VS2   61.7   58.0  5.12  5.15  3.17   1656\n",
       "26965   0.27  Very Good     F    VVS2   61.8   56.0  4.19  4.20  2.60    682\n",
       "26966   1.25    Premium     J     SI1   62.0   58.0  6.90  6.88  4.27   5166\n",
       "\n",
       "[26967 rows x 10 columns]"
      ]
     },
     "execution_count": 5,
     "metadata": {},
     "output_type": "execute_result"
    }
   ],
   "source": [
    "df.drop(['Unnamed: 0'],axis=1,inplace=True)\n",
    "df"
   ]
  },
  {
   "cell_type": "markdown",
   "id": "84b0af1c",
   "metadata": {
    "papermill": {
     "duration": 0.012063,
     "end_time": "2023-06-24T14:20:44.730181",
     "exception": false,
     "start_time": "2023-06-24T14:20:44.718118",
     "status": "completed"
    },
    "tags": []
   },
   "source": [
    "### 1. chechking the descriptive stats(5 pt summary i.e, min,max,25%,50%,75%)\n",
    "### 2. comparing mean and median (to check if there are any outliers present in a column)\n",
    "### 3.if there are any categorical columns check the number of unique values present and check its top and frequency.\n"
   ]
  },
  {
   "cell_type": "code",
   "execution_count": 6,
   "id": "f4d27794",
   "metadata": {
    "execution": {
     "iopub.execute_input": "2023-06-24T14:20:44.756887Z",
     "iopub.status.busy": "2023-06-24T14:20:44.756533Z",
     "iopub.status.idle": "2023-06-24T14:20:44.810442Z",
     "shell.execute_reply": "2023-06-24T14:20:44.808723Z"
    },
    "papermill": {
     "duration": 0.070572,
     "end_time": "2023-06-24T14:20:44.813142",
     "exception": false,
     "start_time": "2023-06-24T14:20:44.742570",
     "status": "completed"
    },
    "tags": []
   },
   "outputs": [
    {
     "data": {
      "text/html": [
       "<div>\n",
       "<style scoped>\n",
       "    .dataframe tbody tr th:only-of-type {\n",
       "        vertical-align: middle;\n",
       "    }\n",
       "\n",
       "    .dataframe tbody tr th {\n",
       "        vertical-align: top;\n",
       "    }\n",
       "\n",
       "    .dataframe thead th {\n",
       "        text-align: right;\n",
       "    }\n",
       "</style>\n",
       "<table border=\"1\" class=\"dataframe\">\n",
       "  <thead>\n",
       "    <tr style=\"text-align: right;\">\n",
       "      <th></th>\n",
       "      <th>count</th>\n",
       "      <th>unique</th>\n",
       "      <th>top</th>\n",
       "      <th>freq</th>\n",
       "      <th>mean</th>\n",
       "      <th>std</th>\n",
       "      <th>min</th>\n",
       "      <th>25%</th>\n",
       "      <th>50%</th>\n",
       "      <th>75%</th>\n",
       "      <th>max</th>\n",
       "    </tr>\n",
       "  </thead>\n",
       "  <tbody>\n",
       "    <tr>\n",
       "      <th>carat</th>\n",
       "      <td>26967.0</td>\n",
       "      <td>NaN</td>\n",
       "      <td>NaN</td>\n",
       "      <td>NaN</td>\n",
       "      <td>0.798375</td>\n",
       "      <td>0.477745</td>\n",
       "      <td>0.2</td>\n",
       "      <td>0.4</td>\n",
       "      <td>0.7</td>\n",
       "      <td>1.05</td>\n",
       "      <td>4.5</td>\n",
       "    </tr>\n",
       "    <tr>\n",
       "      <th>cut</th>\n",
       "      <td>26967</td>\n",
       "      <td>5</td>\n",
       "      <td>Ideal</td>\n",
       "      <td>10816</td>\n",
       "      <td>NaN</td>\n",
       "      <td>NaN</td>\n",
       "      <td>NaN</td>\n",
       "      <td>NaN</td>\n",
       "      <td>NaN</td>\n",
       "      <td>NaN</td>\n",
       "      <td>NaN</td>\n",
       "    </tr>\n",
       "    <tr>\n",
       "      <th>color</th>\n",
       "      <td>26967</td>\n",
       "      <td>7</td>\n",
       "      <td>G</td>\n",
       "      <td>5661</td>\n",
       "      <td>NaN</td>\n",
       "      <td>NaN</td>\n",
       "      <td>NaN</td>\n",
       "      <td>NaN</td>\n",
       "      <td>NaN</td>\n",
       "      <td>NaN</td>\n",
       "      <td>NaN</td>\n",
       "    </tr>\n",
       "    <tr>\n",
       "      <th>clarity</th>\n",
       "      <td>26967</td>\n",
       "      <td>8</td>\n",
       "      <td>SI1</td>\n",
       "      <td>6571</td>\n",
       "      <td>NaN</td>\n",
       "      <td>NaN</td>\n",
       "      <td>NaN</td>\n",
       "      <td>NaN</td>\n",
       "      <td>NaN</td>\n",
       "      <td>NaN</td>\n",
       "      <td>NaN</td>\n",
       "    </tr>\n",
       "    <tr>\n",
       "      <th>depth</th>\n",
       "      <td>26270.0</td>\n",
       "      <td>NaN</td>\n",
       "      <td>NaN</td>\n",
       "      <td>NaN</td>\n",
       "      <td>61.745147</td>\n",
       "      <td>1.41286</td>\n",
       "      <td>50.8</td>\n",
       "      <td>61.0</td>\n",
       "      <td>61.8</td>\n",
       "      <td>62.5</td>\n",
       "      <td>73.6</td>\n",
       "    </tr>\n",
       "    <tr>\n",
       "      <th>table</th>\n",
       "      <td>26967.0</td>\n",
       "      <td>NaN</td>\n",
       "      <td>NaN</td>\n",
       "      <td>NaN</td>\n",
       "      <td>57.45608</td>\n",
       "      <td>2.232068</td>\n",
       "      <td>49.0</td>\n",
       "      <td>56.0</td>\n",
       "      <td>57.0</td>\n",
       "      <td>59.0</td>\n",
       "      <td>79.0</td>\n",
       "    </tr>\n",
       "    <tr>\n",
       "      <th>x</th>\n",
       "      <td>26967.0</td>\n",
       "      <td>NaN</td>\n",
       "      <td>NaN</td>\n",
       "      <td>NaN</td>\n",
       "      <td>5.729854</td>\n",
       "      <td>1.128516</td>\n",
       "      <td>0.0</td>\n",
       "      <td>4.71</td>\n",
       "      <td>5.69</td>\n",
       "      <td>6.55</td>\n",
       "      <td>10.23</td>\n",
       "    </tr>\n",
       "    <tr>\n",
       "      <th>y</th>\n",
       "      <td>26967.0</td>\n",
       "      <td>NaN</td>\n",
       "      <td>NaN</td>\n",
       "      <td>NaN</td>\n",
       "      <td>5.733569</td>\n",
       "      <td>1.166058</td>\n",
       "      <td>0.0</td>\n",
       "      <td>4.71</td>\n",
       "      <td>5.71</td>\n",
       "      <td>6.54</td>\n",
       "      <td>58.9</td>\n",
       "    </tr>\n",
       "    <tr>\n",
       "      <th>z</th>\n",
       "      <td>26967.0</td>\n",
       "      <td>NaN</td>\n",
       "      <td>NaN</td>\n",
       "      <td>NaN</td>\n",
       "      <td>3.538057</td>\n",
       "      <td>0.720624</td>\n",
       "      <td>0.0</td>\n",
       "      <td>2.9</td>\n",
       "      <td>3.52</td>\n",
       "      <td>4.04</td>\n",
       "      <td>31.8</td>\n",
       "    </tr>\n",
       "    <tr>\n",
       "      <th>price</th>\n",
       "      <td>26967.0</td>\n",
       "      <td>NaN</td>\n",
       "      <td>NaN</td>\n",
       "      <td>NaN</td>\n",
       "      <td>3939.518115</td>\n",
       "      <td>4024.864666</td>\n",
       "      <td>326.0</td>\n",
       "      <td>945.0</td>\n",
       "      <td>2375.0</td>\n",
       "      <td>5360.0</td>\n",
       "      <td>18818.0</td>\n",
       "    </tr>\n",
       "  </tbody>\n",
       "</table>\n",
       "</div>"
      ],
      "text/plain": [
       "           count unique    top   freq         mean          std    min    25%  \\\n",
       "carat    26967.0    NaN    NaN    NaN     0.798375     0.477745    0.2    0.4   \n",
       "cut        26967      5  Ideal  10816          NaN          NaN    NaN    NaN   \n",
       "color      26967      7      G   5661          NaN          NaN    NaN    NaN   \n",
       "clarity    26967      8    SI1   6571          NaN          NaN    NaN    NaN   \n",
       "depth    26270.0    NaN    NaN    NaN    61.745147      1.41286   50.8   61.0   \n",
       "table    26967.0    NaN    NaN    NaN     57.45608     2.232068   49.0   56.0   \n",
       "x        26967.0    NaN    NaN    NaN     5.729854     1.128516    0.0   4.71   \n",
       "y        26967.0    NaN    NaN    NaN     5.733569     1.166058    0.0   4.71   \n",
       "z        26967.0    NaN    NaN    NaN     3.538057     0.720624    0.0    2.9   \n",
       "price    26967.0    NaN    NaN    NaN  3939.518115  4024.864666  326.0  945.0   \n",
       "\n",
       "            50%     75%      max  \n",
       "carat       0.7    1.05      4.5  \n",
       "cut         NaN     NaN      NaN  \n",
       "color       NaN     NaN      NaN  \n",
       "clarity     NaN     NaN      NaN  \n",
       "depth      61.8    62.5     73.6  \n",
       "table      57.0    59.0     79.0  \n",
       "x          5.69    6.55    10.23  \n",
       "y          5.71    6.54     58.9  \n",
       "z          3.52    4.04     31.8  \n",
       "price    2375.0  5360.0  18818.0  "
      ]
     },
     "execution_count": 6,
     "metadata": {},
     "output_type": "execute_result"
    }
   ],
   "source": [
    "df.describe(include='all').T"
   ]
  },
  {
   "cell_type": "code",
   "execution_count": 7,
   "id": "b07e5eed",
   "metadata": {
    "execution": {
     "iopub.execute_input": "2023-06-24T14:20:44.841102Z",
     "iopub.status.busy": "2023-06-24T14:20:44.840709Z",
     "iopub.status.idle": "2023-06-24T14:20:44.860708Z",
     "shell.execute_reply": "2023-06-24T14:20:44.859649Z"
    },
    "papermill": {
     "duration": 0.036136,
     "end_time": "2023-06-24T14:20:44.862762",
     "exception": false,
     "start_time": "2023-06-24T14:20:44.826626",
     "status": "completed"
    },
    "tags": []
   },
   "outputs": [
    {
     "data": {
      "text/html": [
       "<div>\n",
       "<style scoped>\n",
       "    .dataframe tbody tr th:only-of-type {\n",
       "        vertical-align: middle;\n",
       "    }\n",
       "\n",
       "    .dataframe tbody tr th {\n",
       "        vertical-align: top;\n",
       "    }\n",
       "\n",
       "    .dataframe thead th {\n",
       "        text-align: right;\n",
       "    }\n",
       "</style>\n",
       "<table border=\"1\" class=\"dataframe\">\n",
       "  <thead>\n",
       "    <tr style=\"text-align: right;\">\n",
       "      <th></th>\n",
       "      <th>carat</th>\n",
       "      <th>cut</th>\n",
       "      <th>color</th>\n",
       "      <th>clarity</th>\n",
       "      <th>depth</th>\n",
       "      <th>table</th>\n",
       "      <th>x</th>\n",
       "      <th>y</th>\n",
       "      <th>z</th>\n",
       "      <th>price</th>\n",
       "    </tr>\n",
       "  </thead>\n",
       "  <tbody>\n",
       "    <tr>\n",
       "      <th>5821</th>\n",
       "      <td>0.71</td>\n",
       "      <td>Good</td>\n",
       "      <td>F</td>\n",
       "      <td>SI2</td>\n",
       "      <td>64.1</td>\n",
       "      <td>60.0</td>\n",
       "      <td>0.00</td>\n",
       "      <td>0.00</td>\n",
       "      <td>0.0</td>\n",
       "      <td>2130</td>\n",
       "    </tr>\n",
       "    <tr>\n",
       "      <th>6034</th>\n",
       "      <td>2.02</td>\n",
       "      <td>Premium</td>\n",
       "      <td>H</td>\n",
       "      <td>VS2</td>\n",
       "      <td>62.7</td>\n",
       "      <td>53.0</td>\n",
       "      <td>8.02</td>\n",
       "      <td>7.95</td>\n",
       "      <td>0.0</td>\n",
       "      <td>18207</td>\n",
       "    </tr>\n",
       "    <tr>\n",
       "      <th>6215</th>\n",
       "      <td>0.71</td>\n",
       "      <td>Good</td>\n",
       "      <td>F</td>\n",
       "      <td>SI2</td>\n",
       "      <td>64.1</td>\n",
       "      <td>60.0</td>\n",
       "      <td>0.00</td>\n",
       "      <td>0.00</td>\n",
       "      <td>0.0</td>\n",
       "      <td>2130</td>\n",
       "    </tr>\n",
       "    <tr>\n",
       "      <th>10827</th>\n",
       "      <td>2.20</td>\n",
       "      <td>Premium</td>\n",
       "      <td>H</td>\n",
       "      <td>SI1</td>\n",
       "      <td>61.2</td>\n",
       "      <td>59.0</td>\n",
       "      <td>8.42</td>\n",
       "      <td>8.37</td>\n",
       "      <td>0.0</td>\n",
       "      <td>17265</td>\n",
       "    </tr>\n",
       "    <tr>\n",
       "      <th>12498</th>\n",
       "      <td>2.18</td>\n",
       "      <td>Premium</td>\n",
       "      <td>H</td>\n",
       "      <td>SI2</td>\n",
       "      <td>59.4</td>\n",
       "      <td>61.0</td>\n",
       "      <td>8.49</td>\n",
       "      <td>8.45</td>\n",
       "      <td>0.0</td>\n",
       "      <td>12631</td>\n",
       "    </tr>\n",
       "    <tr>\n",
       "      <th>12689</th>\n",
       "      <td>1.10</td>\n",
       "      <td>Premium</td>\n",
       "      <td>G</td>\n",
       "      <td>SI2</td>\n",
       "      <td>63.0</td>\n",
       "      <td>59.0</td>\n",
       "      <td>6.50</td>\n",
       "      <td>6.47</td>\n",
       "      <td>0.0</td>\n",
       "      <td>3696</td>\n",
       "    </tr>\n",
       "    <tr>\n",
       "      <th>17506</th>\n",
       "      <td>1.14</td>\n",
       "      <td>Fair</td>\n",
       "      <td>G</td>\n",
       "      <td>VS1</td>\n",
       "      <td>57.5</td>\n",
       "      <td>67.0</td>\n",
       "      <td>0.00</td>\n",
       "      <td>0.00</td>\n",
       "      <td>0.0</td>\n",
       "      <td>6381</td>\n",
       "    </tr>\n",
       "    <tr>\n",
       "      <th>18194</th>\n",
       "      <td>1.01</td>\n",
       "      <td>Premium</td>\n",
       "      <td>H</td>\n",
       "      <td>I1</td>\n",
       "      <td>58.1</td>\n",
       "      <td>59.0</td>\n",
       "      <td>6.66</td>\n",
       "      <td>6.60</td>\n",
       "      <td>0.0</td>\n",
       "      <td>3167</td>\n",
       "    </tr>\n",
       "    <tr>\n",
       "      <th>23758</th>\n",
       "      <td>1.12</td>\n",
       "      <td>Premium</td>\n",
       "      <td>G</td>\n",
       "      <td>I1</td>\n",
       "      <td>60.4</td>\n",
       "      <td>59.0</td>\n",
       "      <td>6.71</td>\n",
       "      <td>6.67</td>\n",
       "      <td>0.0</td>\n",
       "      <td>2383</td>\n",
       "    </tr>\n",
       "  </tbody>\n",
       "</table>\n",
       "</div>"
      ],
      "text/plain": [
       "       carat      cut color clarity  depth  table     x     y    z  price\n",
       "5821    0.71     Good     F     SI2   64.1   60.0  0.00  0.00  0.0   2130\n",
       "6034    2.02  Premium     H     VS2   62.7   53.0  8.02  7.95  0.0  18207\n",
       "6215    0.71     Good     F     SI2   64.1   60.0  0.00  0.00  0.0   2130\n",
       "10827   2.20  Premium     H     SI1   61.2   59.0  8.42  8.37  0.0  17265\n",
       "12498   2.18  Premium     H     SI2   59.4   61.0  8.49  8.45  0.0  12631\n",
       "12689   1.10  Premium     G     SI2   63.0   59.0  6.50  6.47  0.0   3696\n",
       "17506   1.14     Fair     G     VS1   57.5   67.0  0.00  0.00  0.0   6381\n",
       "18194   1.01  Premium     H      I1   58.1   59.0  6.66  6.60  0.0   3167\n",
       "23758   1.12  Premium     G      I1   60.4   59.0  6.71  6.67  0.0   2383"
      ]
     },
     "execution_count": 7,
     "metadata": {},
     "output_type": "execute_result"
    }
   ],
   "source": [
    "df[(df['x']==0) | (df['y']==0) | (df['z']==0) ] "
   ]
  },
  {
   "cell_type": "markdown",
   "id": "a09f3d79",
   "metadata": {
    "papermill": {
     "duration": 0.013214,
     "end_time": "2023-06-24T14:20:44.889348",
     "exception": false,
     "start_time": "2023-06-24T14:20:44.876134",
     "status": "completed"
    },
    "tags": []
   },
   "source": [
    "### As dimensions cant be zero we will replace these values with medain"
   ]
  },
  {
   "cell_type": "code",
   "execution_count": 8,
   "id": "3ac02609",
   "metadata": {
    "execution": {
     "iopub.execute_input": "2023-06-24T14:20:44.920980Z",
     "iopub.status.busy": "2023-06-24T14:20:44.919459Z",
     "iopub.status.idle": "2023-06-24T14:20:44.931163Z",
     "shell.execute_reply": "2023-06-24T14:20:44.929776Z"
    },
    "papermill": {
     "duration": 0.031045,
     "end_time": "2023-06-24T14:20:44.933719",
     "exception": false,
     "start_time": "2023-06-24T14:20:44.902674",
     "status": "completed"
    },
    "tags": []
   },
   "outputs": [],
   "source": [
    "df['x'].replace(0,df['x'].median(),inplace=True)\n",
    "df['y'].replace(0,df['y'].median(),inplace=True)\n",
    "df['z'].replace(0,df['z'].median(),inplace=True)"
   ]
  },
  {
   "cell_type": "markdown",
   "id": "be816b73",
   "metadata": {
    "papermill": {
     "duration": 0.012903,
     "end_time": "2023-06-24T14:20:44.960587",
     "exception": false,
     "start_time": "2023-06-24T14:20:44.947684",
     "status": "completed"
    },
    "tags": []
   },
   "source": [
    "### We can confirm that there are no  0 dimension values\n"
   ]
  },
  {
   "cell_type": "code",
   "execution_count": 9,
   "id": "fb447742",
   "metadata": {
    "execution": {
     "iopub.execute_input": "2023-06-24T14:20:44.988644Z",
     "iopub.status.busy": "2023-06-24T14:20:44.988227Z",
     "iopub.status.idle": "2023-06-24T14:20:45.000779Z",
     "shell.execute_reply": "2023-06-24T14:20:44.999727Z"
    },
    "papermill": {
     "duration": 0.029515,
     "end_time": "2023-06-24T14:20:45.002989",
     "exception": false,
     "start_time": "2023-06-24T14:20:44.973474",
     "status": "completed"
    },
    "tags": []
   },
   "outputs": [
    {
     "data": {
      "text/html": [
       "<div>\n",
       "<style scoped>\n",
       "    .dataframe tbody tr th:only-of-type {\n",
       "        vertical-align: middle;\n",
       "    }\n",
       "\n",
       "    .dataframe tbody tr th {\n",
       "        vertical-align: top;\n",
       "    }\n",
       "\n",
       "    .dataframe thead th {\n",
       "        text-align: right;\n",
       "    }\n",
       "</style>\n",
       "<table border=\"1\" class=\"dataframe\">\n",
       "  <thead>\n",
       "    <tr style=\"text-align: right;\">\n",
       "      <th></th>\n",
       "      <th>carat</th>\n",
       "      <th>cut</th>\n",
       "      <th>color</th>\n",
       "      <th>clarity</th>\n",
       "      <th>depth</th>\n",
       "      <th>table</th>\n",
       "      <th>x</th>\n",
       "      <th>y</th>\n",
       "      <th>z</th>\n",
       "      <th>price</th>\n",
       "    </tr>\n",
       "  </thead>\n",
       "  <tbody>\n",
       "  </tbody>\n",
       "</table>\n",
       "</div>"
      ],
      "text/plain": [
       "Empty DataFrame\n",
       "Columns: [carat, cut, color, clarity, depth, table, x, y, z, price]\n",
       "Index: []"
      ]
     },
     "execution_count": 9,
     "metadata": {},
     "output_type": "execute_result"
    }
   ],
   "source": [
    "df[df['x'] == 0]"
   ]
  },
  {
   "cell_type": "code",
   "execution_count": 10,
   "id": "962b7684",
   "metadata": {
    "execution": {
     "iopub.execute_input": "2023-06-24T14:20:45.033062Z",
     "iopub.status.busy": "2023-06-24T14:20:45.032606Z",
     "iopub.status.idle": "2023-06-24T14:20:45.043204Z",
     "shell.execute_reply": "2023-06-24T14:20:45.042218Z"
    },
    "papermill": {
     "duration": 0.029029,
     "end_time": "2023-06-24T14:20:45.045737",
     "exception": false,
     "start_time": "2023-06-24T14:20:45.016708",
     "status": "completed"
    },
    "tags": []
   },
   "outputs": [
    {
     "data": {
      "text/html": [
       "<div>\n",
       "<style scoped>\n",
       "    .dataframe tbody tr th:only-of-type {\n",
       "        vertical-align: middle;\n",
       "    }\n",
       "\n",
       "    .dataframe tbody tr th {\n",
       "        vertical-align: top;\n",
       "    }\n",
       "\n",
       "    .dataframe thead th {\n",
       "        text-align: right;\n",
       "    }\n",
       "</style>\n",
       "<table border=\"1\" class=\"dataframe\">\n",
       "  <thead>\n",
       "    <tr style=\"text-align: right;\">\n",
       "      <th></th>\n",
       "      <th>carat</th>\n",
       "      <th>cut</th>\n",
       "      <th>color</th>\n",
       "      <th>clarity</th>\n",
       "      <th>depth</th>\n",
       "      <th>table</th>\n",
       "      <th>x</th>\n",
       "      <th>y</th>\n",
       "      <th>z</th>\n",
       "      <th>price</th>\n",
       "    </tr>\n",
       "  </thead>\n",
       "  <tbody>\n",
       "  </tbody>\n",
       "</table>\n",
       "</div>"
      ],
      "text/plain": [
       "Empty DataFrame\n",
       "Columns: [carat, cut, color, clarity, depth, table, x, y, z, price]\n",
       "Index: []"
      ]
     },
     "execution_count": 10,
     "metadata": {},
     "output_type": "execute_result"
    }
   ],
   "source": [
    "df[df['y'] == 0]"
   ]
  },
  {
   "cell_type": "code",
   "execution_count": 11,
   "id": "b05b5810",
   "metadata": {
    "execution": {
     "iopub.execute_input": "2023-06-24T14:20:45.073771Z",
     "iopub.status.busy": "2023-06-24T14:20:45.073375Z",
     "iopub.status.idle": "2023-06-24T14:20:45.084113Z",
     "shell.execute_reply": "2023-06-24T14:20:45.082908Z"
    },
    "papermill": {
     "duration": 0.0279,
     "end_time": "2023-06-24T14:20:45.086798",
     "exception": false,
     "start_time": "2023-06-24T14:20:45.058898",
     "status": "completed"
    },
    "tags": []
   },
   "outputs": [
    {
     "data": {
      "text/html": [
       "<div>\n",
       "<style scoped>\n",
       "    .dataframe tbody tr th:only-of-type {\n",
       "        vertical-align: middle;\n",
       "    }\n",
       "\n",
       "    .dataframe tbody tr th {\n",
       "        vertical-align: top;\n",
       "    }\n",
       "\n",
       "    .dataframe thead th {\n",
       "        text-align: right;\n",
       "    }\n",
       "</style>\n",
       "<table border=\"1\" class=\"dataframe\">\n",
       "  <thead>\n",
       "    <tr style=\"text-align: right;\">\n",
       "      <th></th>\n",
       "      <th>carat</th>\n",
       "      <th>cut</th>\n",
       "      <th>color</th>\n",
       "      <th>clarity</th>\n",
       "      <th>depth</th>\n",
       "      <th>table</th>\n",
       "      <th>x</th>\n",
       "      <th>y</th>\n",
       "      <th>z</th>\n",
       "      <th>price</th>\n",
       "    </tr>\n",
       "  </thead>\n",
       "  <tbody>\n",
       "  </tbody>\n",
       "</table>\n",
       "</div>"
      ],
      "text/plain": [
       "Empty DataFrame\n",
       "Columns: [carat, cut, color, clarity, depth, table, x, y, z, price]\n",
       "Index: []"
      ]
     },
     "execution_count": 11,
     "metadata": {},
     "output_type": "execute_result"
    }
   ],
   "source": [
    "df[df['z'] == 0]"
   ]
  },
  {
   "cell_type": "markdown",
   "id": "2084dca6",
   "metadata": {
    "papermill": {
     "duration": 0.014294,
     "end_time": "2023-06-24T14:20:45.115128",
     "exception": false,
     "start_time": "2023-06-24T14:20:45.100834",
     "status": "completed"
    },
    "tags": []
   },
   "source": [
    "### Either impute or drop null values\n",
    "### outliers should be imputed with mean\n",
    "### Null values present in categorical column use mode for imputation\n",
    "### If there are large percantage of missing values present in the column then drop it, else try to impute it."
   ]
  },
  {
   "cell_type": "code",
   "execution_count": 12,
   "id": "bc367b5d",
   "metadata": {
    "execution": {
     "iopub.execute_input": "2023-06-24T14:20:45.143916Z",
     "iopub.status.busy": "2023-06-24T14:20:45.142946Z",
     "iopub.status.idle": "2023-06-24T14:20:45.162599Z",
     "shell.execute_reply": "2023-06-24T14:20:45.161696Z"
    },
    "papermill": {
     "duration": 0.035884,
     "end_time": "2023-06-24T14:20:45.164489",
     "exception": false,
     "start_time": "2023-06-24T14:20:45.128605",
     "status": "completed"
    },
    "tags": []
   },
   "outputs": [
    {
     "data": {
      "text/plain": [
       "carat        0\n",
       "cut          0\n",
       "color        0\n",
       "clarity      0\n",
       "depth      697\n",
       "table        0\n",
       "x            0\n",
       "y            0\n",
       "z            0\n",
       "price        0\n",
       "dtype: int64"
      ]
     },
     "execution_count": 12,
     "metadata": {},
     "output_type": "execute_result"
    }
   ],
   "source": [
    "df.isnull().sum() #we have missing values in only one column i.e, depth"
   ]
  },
  {
   "cell_type": "markdown",
   "id": "1b86282a",
   "metadata": {
    "papermill": {
     "duration": 0.013721,
     "end_time": "2023-06-24T14:20:45.192801",
     "exception": false,
     "start_time": "2023-06-24T14:20:45.179080",
     "status": "completed"
    },
    "tags": []
   },
   "source": [
    "### Check the percentage of missing columns"
   ]
  },
  {
   "cell_type": "code",
   "execution_count": 13,
   "id": "19535bff",
   "metadata": {
    "execution": {
     "iopub.execute_input": "2023-06-24T14:20:45.222834Z",
     "iopub.status.busy": "2023-06-24T14:20:45.222408Z",
     "iopub.status.idle": "2023-06-24T14:20:45.234836Z",
     "shell.execute_reply": "2023-06-24T14:20:45.232903Z"
    },
    "papermill": {
     "duration": 0.029663,
     "end_time": "2023-06-24T14:20:45.236715",
     "exception": false,
     "start_time": "2023-06-24T14:20:45.207052",
     "status": "completed"
    },
    "tags": []
   },
   "outputs": [
    {
     "name": "stdout",
     "output_type": "stream",
     "text": [
      "Precentage of missing values is 0.0 % in carat \n",
      "Precentage of missing values is 0.0 % in cut \n",
      "Precentage of missing values is 0.0 % in color \n",
      "Precentage of missing values is 0.0 % in clarity \n",
      "Precentage of missing values is 2.58 % in depth \n",
      "Precentage of missing values is 0.0 % in table \n",
      "Precentage of missing values is 0.0 % in x \n",
      "Precentage of missing values is 0.0 % in y \n",
      "Precentage of missing values is 0.0 % in z \n",
      "Precentage of missing values is 0.0 % in price \n"
     ]
    }
   ],
   "source": [
    "for i in df.columns:\n",
    "    print('Precentage of missing values is {} % in {} '.format(round(\n",
    "        (df[i].isnull().sum()/df.shape[0])*100,2),i))\n"
   ]
  },
  {
   "cell_type": "markdown",
   "id": "a66c87ee",
   "metadata": {
    "papermill": {
     "duration": 0.012941,
     "end_time": "2023-06-24T14:20:45.263760",
     "exception": false,
     "start_time": "2023-06-24T14:20:45.250819",
     "status": "completed"
    },
    "tags": []
   },
   "source": [
    "## Assigning median to missing values in depth column"
   ]
  },
  {
   "cell_type": "code",
   "execution_count": 14,
   "id": "84b28936",
   "metadata": {
    "execution": {
     "iopub.execute_input": "2023-06-24T14:20:45.291569Z",
     "iopub.status.busy": "2023-06-24T14:20:45.291114Z",
     "iopub.status.idle": "2023-06-24T14:20:45.299734Z",
     "shell.execute_reply": "2023-06-24T14:20:45.298232Z"
    },
    "papermill": {
     "duration": 0.025167,
     "end_time": "2023-06-24T14:20:45.301798",
     "exception": false,
     "start_time": "2023-06-24T14:20:45.276631",
     "status": "completed"
    },
    "tags": []
   },
   "outputs": [
    {
     "data": {
      "text/plain": [
       "61.8"
      ]
     },
     "execution_count": 14,
     "metadata": {},
     "output_type": "execute_result"
    }
   ],
   "source": [
    "m = df['depth'].median()\n",
    "m"
   ]
  },
  {
   "cell_type": "code",
   "execution_count": 15,
   "id": "53fdf9c5",
   "metadata": {
    "execution": {
     "iopub.execute_input": "2023-06-24T14:20:45.332139Z",
     "iopub.status.busy": "2023-06-24T14:20:45.331745Z",
     "iopub.status.idle": "2023-06-24T14:20:45.338344Z",
     "shell.execute_reply": "2023-06-24T14:20:45.337016Z"
    },
    "papermill": {
     "duration": 0.024903,
     "end_time": "2023-06-24T14:20:45.340979",
     "exception": false,
     "start_time": "2023-06-24T14:20:45.316076",
     "status": "completed"
    },
    "tags": []
   },
   "outputs": [],
   "source": [
    "df['depth'] = df['depth'].fillna(m)"
   ]
  },
  {
   "cell_type": "code",
   "execution_count": 16,
   "id": "afc0059c",
   "metadata": {
    "execution": {
     "iopub.execute_input": "2023-06-24T14:20:45.373419Z",
     "iopub.status.busy": "2023-06-24T14:20:45.371923Z",
     "iopub.status.idle": "2023-06-24T14:20:45.393952Z",
     "shell.execute_reply": "2023-06-24T14:20:45.392617Z"
    },
    "papermill": {
     "duration": 0.04184,
     "end_time": "2023-06-24T14:20:45.396857",
     "exception": false,
     "start_time": "2023-06-24T14:20:45.355017",
     "status": "completed"
    },
    "tags": []
   },
   "outputs": [
    {
     "data": {
      "text/plain": [
       "carat      0\n",
       "cut        0\n",
       "color      0\n",
       "clarity    0\n",
       "depth      0\n",
       "table      0\n",
       "x          0\n",
       "y          0\n",
       "z          0\n",
       "price      0\n",
       "dtype: int64"
      ]
     },
     "execution_count": 16,
     "metadata": {},
     "output_type": "execute_result"
    }
   ],
   "source": [
    "df.isnull().sum()"
   ]
  },
  {
   "cell_type": "code",
   "execution_count": 17,
   "id": "7934c4bf",
   "metadata": {
    "execution": {
     "iopub.execute_input": "2023-06-24T14:20:45.428948Z",
     "iopub.status.busy": "2023-06-24T14:20:45.427876Z",
     "iopub.status.idle": "2023-06-24T14:20:45.437796Z",
     "shell.execute_reply": "2023-06-24T14:20:45.436527Z"
    },
    "papermill": {
     "duration": 0.028324,
     "end_time": "2023-06-24T14:20:45.440212",
     "exception": false,
     "start_time": "2023-06-24T14:20:45.411888",
     "status": "completed"
    },
    "tags": []
   },
   "outputs": [
    {
     "data": {
      "text/plain": [
       "Ideal        10816\n",
       "Premium       6899\n",
       "Very Good     6030\n",
       "Good          2441\n",
       "Fair           781\n",
       "Name: cut, dtype: int64"
      ]
     },
     "execution_count": 17,
     "metadata": {},
     "output_type": "execute_result"
    }
   ],
   "source": [
    "df['cut'].value_counts()"
   ]
  },
  {
   "cell_type": "markdown",
   "id": "c199a0f5",
   "metadata": {
    "papermill": {
     "duration": 0.014126,
     "end_time": "2023-06-24T14:20:45.468848",
     "exception": false,
     "start_time": "2023-06-24T14:20:45.454722",
     "status": "completed"
    },
    "tags": []
   },
   "source": [
    "## This describes this is categorical ordinal data\n",
    "### Within CUT Ideal is best and Fair is worst\n",
    "### Within COLOR D is best and J is worst"
   ]
  },
  {
   "cell_type": "code",
   "execution_count": 18,
   "id": "78681399",
   "metadata": {
    "execution": {
     "iopub.execute_input": "2023-06-24T14:20:45.502045Z",
     "iopub.status.busy": "2023-06-24T14:20:45.501632Z",
     "iopub.status.idle": "2023-06-24T14:20:45.527042Z",
     "shell.execute_reply": "2023-06-24T14:20:45.525758Z"
    },
    "papermill": {
     "duration": 0.044738,
     "end_time": "2023-06-24T14:20:45.529163",
     "exception": false,
     "start_time": "2023-06-24T14:20:45.484425",
     "status": "completed"
    },
    "tags": []
   },
   "outputs": [
    {
     "name": "stderr",
     "output_type": "stream",
     "text": [
      "/tmp/ipykernel_21/1468709082.py:1: FutureWarning: The default value of numeric_only in DataFrameGroupBy.median is deprecated. In a future version, numeric_only will default to False. Either specify numeric_only or select only columns which should be valid for the function.\n",
      "  df.groupby('cut').median().T\n"
     ]
    },
    {
     "data": {
      "text/html": [
       "<div>\n",
       "<style scoped>\n",
       "    .dataframe tbody tr th:only-of-type {\n",
       "        vertical-align: middle;\n",
       "    }\n",
       "\n",
       "    .dataframe tbody tr th {\n",
       "        vertical-align: top;\n",
       "    }\n",
       "\n",
       "    .dataframe thead th {\n",
       "        text-align: right;\n",
       "    }\n",
       "</style>\n",
       "<table border=\"1\" class=\"dataframe\">\n",
       "  <thead>\n",
       "    <tr style=\"text-align: right;\">\n",
       "      <th>cut</th>\n",
       "      <th>Fair</th>\n",
       "      <th>Good</th>\n",
       "      <th>Ideal</th>\n",
       "      <th>Premium</th>\n",
       "      <th>Very Good</th>\n",
       "    </tr>\n",
       "  </thead>\n",
       "  <tbody>\n",
       "    <tr>\n",
       "      <th>carat</th>\n",
       "      <td>1.00</td>\n",
       "      <td>0.84</td>\n",
       "      <td>0.54</td>\n",
       "      <td>0.83</td>\n",
       "      <td>0.72</td>\n",
       "    </tr>\n",
       "    <tr>\n",
       "      <th>depth</th>\n",
       "      <td>64.90</td>\n",
       "      <td>63.30</td>\n",
       "      <td>61.80</td>\n",
       "      <td>61.50</td>\n",
       "      <td>62.10</td>\n",
       "    </tr>\n",
       "    <tr>\n",
       "      <th>table</th>\n",
       "      <td>58.00</td>\n",
       "      <td>58.00</td>\n",
       "      <td>56.00</td>\n",
       "      <td>59.00</td>\n",
       "      <td>58.00</td>\n",
       "    </tr>\n",
       "    <tr>\n",
       "      <th>x</th>\n",
       "      <td>6.19</td>\n",
       "      <td>6.01</td>\n",
       "      <td>5.23</td>\n",
       "      <td>6.08</td>\n",
       "      <td>5.74</td>\n",
       "    </tr>\n",
       "    <tr>\n",
       "      <th>y</th>\n",
       "      <td>6.12</td>\n",
       "      <td>6.02</td>\n",
       "      <td>5.25</td>\n",
       "      <td>6.04</td>\n",
       "      <td>5.78</td>\n",
       "    </tr>\n",
       "    <tr>\n",
       "      <th>z</th>\n",
       "      <td>3.99</td>\n",
       "      <td>3.70</td>\n",
       "      <td>3.23</td>\n",
       "      <td>3.70</td>\n",
       "      <td>3.56</td>\n",
       "    </tr>\n",
       "    <tr>\n",
       "      <th>price</th>\n",
       "      <td>3348.00</td>\n",
       "      <td>3098.00</td>\n",
       "      <td>1761.00</td>\n",
       "      <td>3121.00</td>\n",
       "      <td>2637.00</td>\n",
       "    </tr>\n",
       "  </tbody>\n",
       "</table>\n",
       "</div>"
      ],
      "text/plain": [
       "cut       Fair     Good    Ideal  Premium  Very Good\n",
       "carat     1.00     0.84     0.54     0.83       0.72\n",
       "depth    64.90    63.30    61.80    61.50      62.10\n",
       "table    58.00    58.00    56.00    59.00      58.00\n",
       "x         6.19     6.01     5.23     6.08       5.74\n",
       "y         6.12     6.02     5.25     6.04       5.78\n",
       "z         3.99     3.70     3.23     3.70       3.56\n",
       "price  3348.00  3098.00  1761.00  3121.00    2637.00"
      ]
     },
     "execution_count": 18,
     "metadata": {},
     "output_type": "execute_result"
    }
   ],
   "source": [
    "df.groupby('cut').median().T  "
   ]
  },
  {
   "cell_type": "code",
   "execution_count": 19,
   "id": "e07ee92b",
   "metadata": {
    "execution": {
     "iopub.execute_input": "2023-06-24T14:20:45.560276Z",
     "iopub.status.busy": "2023-06-24T14:20:45.559834Z",
     "iopub.status.idle": "2023-06-24T14:20:45.585733Z",
     "shell.execute_reply": "2023-06-24T14:20:45.584340Z"
    },
    "papermill": {
     "duration": 0.044742,
     "end_time": "2023-06-24T14:20:45.588823",
     "exception": false,
     "start_time": "2023-06-24T14:20:45.544081",
     "status": "completed"
    },
    "tags": []
   },
   "outputs": [
    {
     "name": "stderr",
     "output_type": "stream",
     "text": [
      "/tmp/ipykernel_21/2826860742.py:1: FutureWarning: The default value of numeric_only in DataFrameGroupBy.median is deprecated. In a future version, numeric_only will default to False. Either specify numeric_only or select only columns which should be valid for the function.\n",
      "  df.groupby('color').median().T\n"
     ]
    },
    {
     "data": {
      "text/html": [
       "<div>\n",
       "<style scoped>\n",
       "    .dataframe tbody tr th:only-of-type {\n",
       "        vertical-align: middle;\n",
       "    }\n",
       "\n",
       "    .dataframe tbody tr th {\n",
       "        vertical-align: top;\n",
       "    }\n",
       "\n",
       "    .dataframe thead th {\n",
       "        text-align: right;\n",
       "    }\n",
       "</style>\n",
       "<table border=\"1\" class=\"dataframe\">\n",
       "  <thead>\n",
       "    <tr style=\"text-align: right;\">\n",
       "      <th>color</th>\n",
       "      <th>D</th>\n",
       "      <th>E</th>\n",
       "      <th>F</th>\n",
       "      <th>G</th>\n",
       "      <th>H</th>\n",
       "      <th>I</th>\n",
       "      <th>J</th>\n",
       "    </tr>\n",
       "  </thead>\n",
       "  <tbody>\n",
       "    <tr>\n",
       "      <th>carat</th>\n",
       "      <td>0.53</td>\n",
       "      <td>0.53</td>\n",
       "      <td>0.70</td>\n",
       "      <td>0.70</td>\n",
       "      <td>0.90</td>\n",
       "      <td>1.01</td>\n",
       "      <td>1.11</td>\n",
       "    </tr>\n",
       "    <tr>\n",
       "      <th>depth</th>\n",
       "      <td>61.80</td>\n",
       "      <td>61.80</td>\n",
       "      <td>61.80</td>\n",
       "      <td>61.80</td>\n",
       "      <td>61.90</td>\n",
       "      <td>61.90</td>\n",
       "      <td>61.90</td>\n",
       "    </tr>\n",
       "    <tr>\n",
       "      <th>table</th>\n",
       "      <td>57.00</td>\n",
       "      <td>57.00</td>\n",
       "      <td>57.00</td>\n",
       "      <td>57.00</td>\n",
       "      <td>57.00</td>\n",
       "      <td>57.00</td>\n",
       "      <td>58.00</td>\n",
       "    </tr>\n",
       "    <tr>\n",
       "      <th>x</th>\n",
       "      <td>5.21</td>\n",
       "      <td>5.22</td>\n",
       "      <td>5.62</td>\n",
       "      <td>5.65</td>\n",
       "      <td>6.13</td>\n",
       "      <td>6.37</td>\n",
       "      <td>6.65</td>\n",
       "    </tr>\n",
       "    <tr>\n",
       "      <th>y</th>\n",
       "      <td>5.22</td>\n",
       "      <td>5.23</td>\n",
       "      <td>5.62</td>\n",
       "      <td>5.65</td>\n",
       "      <td>6.13</td>\n",
       "      <td>6.36</td>\n",
       "      <td>6.65</td>\n",
       "    </tr>\n",
       "    <tr>\n",
       "      <th>z</th>\n",
       "      <td>3.21</td>\n",
       "      <td>3.22</td>\n",
       "      <td>3.45</td>\n",
       "      <td>3.49</td>\n",
       "      <td>3.80</td>\n",
       "      <td>3.94</td>\n",
       "      <td>4.11</td>\n",
       "    </tr>\n",
       "    <tr>\n",
       "      <th>price</th>\n",
       "      <td>1800.50</td>\n",
       "      <td>1698.00</td>\n",
       "      <td>2278.00</td>\n",
       "      <td>2274.00</td>\n",
       "      <td>3413.00</td>\n",
       "      <td>3749.00</td>\n",
       "      <td>4234.00</td>\n",
       "    </tr>\n",
       "  </tbody>\n",
       "</table>\n",
       "</div>"
      ],
      "text/plain": [
       "color        D        E        F        G        H        I        J\n",
       "carat     0.53     0.53     0.70     0.70     0.90     1.01     1.11\n",
       "depth    61.80    61.80    61.80    61.80    61.90    61.90    61.90\n",
       "table    57.00    57.00    57.00    57.00    57.00    57.00    58.00\n",
       "x         5.21     5.22     5.62     5.65     6.13     6.37     6.65\n",
       "y         5.22     5.23     5.62     5.65     6.13     6.36     6.65\n",
       "z         3.21     3.22     3.45     3.49     3.80     3.94     4.11\n",
       "price  1800.50  1698.00  2278.00  2274.00  3413.00  3749.00  4234.00"
      ]
     },
     "execution_count": 19,
     "metadata": {},
     "output_type": "execute_result"
    }
   ],
   "source": [
    "df.groupby('color').median().T    "
   ]
  },
  {
   "cell_type": "code",
   "execution_count": 20,
   "id": "0036229c",
   "metadata": {
    "execution": {
     "iopub.execute_input": "2023-06-24T14:20:45.620463Z",
     "iopub.status.busy": "2023-06-24T14:20:45.620065Z",
     "iopub.status.idle": "2023-06-24T14:20:45.647570Z",
     "shell.execute_reply": "2023-06-24T14:20:45.646042Z"
    },
    "papermill": {
     "duration": 0.045675,
     "end_time": "2023-06-24T14:20:45.649618",
     "exception": false,
     "start_time": "2023-06-24T14:20:45.603943",
     "status": "completed"
    },
    "tags": []
   },
   "outputs": [
    {
     "name": "stderr",
     "output_type": "stream",
     "text": [
      "/tmp/ipykernel_21/4271451872.py:1: FutureWarning: The default value of numeric_only in DataFrameGroupBy.median is deprecated. In a future version, numeric_only will default to False. Either specify numeric_only or select only columns which should be valid for the function.\n",
      "  df.groupby('clarity').median().T\n"
     ]
    },
    {
     "data": {
      "text/html": [
       "<div>\n",
       "<style scoped>\n",
       "    .dataframe tbody tr th:only-of-type {\n",
       "        vertical-align: middle;\n",
       "    }\n",
       "\n",
       "    .dataframe tbody tr th {\n",
       "        vertical-align: top;\n",
       "    }\n",
       "\n",
       "    .dataframe thead th {\n",
       "        text-align: right;\n",
       "    }\n",
       "</style>\n",
       "<table border=\"1\" class=\"dataframe\">\n",
       "  <thead>\n",
       "    <tr style=\"text-align: right;\">\n",
       "      <th>clarity</th>\n",
       "      <th>I1</th>\n",
       "      <th>IF</th>\n",
       "      <th>SI1</th>\n",
       "      <th>SI2</th>\n",
       "      <th>VS1</th>\n",
       "      <th>VS2</th>\n",
       "      <th>VVS1</th>\n",
       "      <th>VVS2</th>\n",
       "    </tr>\n",
       "  </thead>\n",
       "  <tbody>\n",
       "    <tr>\n",
       "      <th>carat</th>\n",
       "      <td>1.12</td>\n",
       "      <td>0.350</td>\n",
       "      <td>0.76</td>\n",
       "      <td>1.01</td>\n",
       "      <td>0.57</td>\n",
       "      <td>0.64</td>\n",
       "      <td>0.38</td>\n",
       "      <td>0.43</td>\n",
       "    </tr>\n",
       "    <tr>\n",
       "      <th>depth</th>\n",
       "      <td>62.10</td>\n",
       "      <td>61.700</td>\n",
       "      <td>61.90</td>\n",
       "      <td>61.90</td>\n",
       "      <td>61.80</td>\n",
       "      <td>61.80</td>\n",
       "      <td>61.80</td>\n",
       "      <td>61.80</td>\n",
       "    </tr>\n",
       "    <tr>\n",
       "      <th>table</th>\n",
       "      <td>58.00</td>\n",
       "      <td>56.000</td>\n",
       "      <td>57.00</td>\n",
       "      <td>58.00</td>\n",
       "      <td>57.00</td>\n",
       "      <td>57.00</td>\n",
       "      <td>57.00</td>\n",
       "      <td>57.00</td>\n",
       "    </tr>\n",
       "    <tr>\n",
       "      <th>x</th>\n",
       "      <td>6.66</td>\n",
       "      <td>4.570</td>\n",
       "      <td>5.86</td>\n",
       "      <td>6.43</td>\n",
       "      <td>5.33</td>\n",
       "      <td>5.55</td>\n",
       "      <td>4.67</td>\n",
       "      <td>4.85</td>\n",
       "    </tr>\n",
       "    <tr>\n",
       "      <th>y</th>\n",
       "      <td>6.62</td>\n",
       "      <td>4.585</td>\n",
       "      <td>5.86</td>\n",
       "      <td>6.42</td>\n",
       "      <td>5.34</td>\n",
       "      <td>5.55</td>\n",
       "      <td>4.70</td>\n",
       "      <td>4.87</td>\n",
       "    </tr>\n",
       "    <tr>\n",
       "      <th>z</th>\n",
       "      <td>4.13</td>\n",
       "      <td>2.800</td>\n",
       "      <td>3.61</td>\n",
       "      <td>3.98</td>\n",
       "      <td>3.28</td>\n",
       "      <td>3.40</td>\n",
       "      <td>2.87</td>\n",
       "      <td>2.99</td>\n",
       "    </tr>\n",
       "    <tr>\n",
       "      <th>price</th>\n",
       "      <td>3459.00</td>\n",
       "      <td>1063.500</td>\n",
       "      <td>2799.00</td>\n",
       "      <td>4077.00</td>\n",
       "      <td>1949.00</td>\n",
       "      <td>2066.00</td>\n",
       "      <td>1066.00</td>\n",
       "      <td>1253.00</td>\n",
       "    </tr>\n",
       "  </tbody>\n",
       "</table>\n",
       "</div>"
      ],
      "text/plain": [
       "clarity       I1        IF      SI1      SI2      VS1      VS2     VVS1  \\\n",
       "carat       1.12     0.350     0.76     1.01     0.57     0.64     0.38   \n",
       "depth      62.10    61.700    61.90    61.90    61.80    61.80    61.80   \n",
       "table      58.00    56.000    57.00    58.00    57.00    57.00    57.00   \n",
       "x           6.66     4.570     5.86     6.43     5.33     5.55     4.67   \n",
       "y           6.62     4.585     5.86     6.42     5.34     5.55     4.70   \n",
       "z           4.13     2.800     3.61     3.98     3.28     3.40     2.87   \n",
       "price    3459.00  1063.500  2799.00  4077.00  1949.00  2066.00  1066.00   \n",
       "\n",
       "clarity     VVS2  \n",
       "carat       0.43  \n",
       "depth      61.80  \n",
       "table      57.00  \n",
       "x           4.85  \n",
       "y           4.87  \n",
       "z           2.99  \n",
       "price    1253.00  "
      ]
     },
     "execution_count": 20,
     "metadata": {},
     "output_type": "execute_result"
    }
   ],
   "source": [
    "df.groupby('clarity').median().T\n"
   ]
  },
  {
   "cell_type": "markdown",
   "id": "a46f49be",
   "metadata": {
    "papermill": {
     "duration": 0.015122,
     "end_time": "2023-06-24T14:20:45.680521",
     "exception": false,
     "start_time": "2023-06-24T14:20:45.665399",
     "status": "completed"
    },
    "tags": []
   },
   "source": [
    "### Data visualisation for categorical data"
   ]
  },
  {
   "cell_type": "code",
   "execution_count": 21,
   "id": "ee72a2d6",
   "metadata": {
    "execution": {
     "iopub.execute_input": "2023-06-24T14:20:45.714457Z",
     "iopub.status.busy": "2023-06-24T14:20:45.712904Z",
     "iopub.status.idle": "2023-06-24T14:20:46.298239Z",
     "shell.execute_reply": "2023-06-24T14:20:46.296448Z"
    },
    "papermill": {
     "duration": 0.605413,
     "end_time": "2023-06-24T14:20:46.301456",
     "exception": false,
     "start_time": "2023-06-24T14:20:45.696043",
     "status": "completed"
    },
    "tags": []
   },
   "outputs": [
    {
     "data": {
      "image/png": "[encoded data removed]",
      "text/plain": [
       "<Figure size 640x480 with 1 Axes>"
      ]
     },
     "metadata": {},
     "output_type": "display_data"
    },
    {
     "data": {
      "image/png": "[encoded data removed]",
      "text/plain": [
       "<Figure size 640x480 with 1 Axes>"
      ]
     },
     "metadata": {},
     "output_type": "display_data"
    },
    {
     "data": {
      "image/png": "[encoded data removed]",
      "text/plain": [
       "<Figure size 640x480 with 1 Axes>"
      ]
     },
     "metadata": {},
     "output_type": "display_data"
    }
   ],
   "source": [
    "for col in df.select_dtypes(include='object'):\n",
    "    sns.countplot(x=df[col])\n",
    "    plt.show()"
   ]
  },
  {
   "cell_type": "markdown",
   "id": "15224073",
   "metadata": {
    "papermill": {
     "duration": 0.017226,
     "end_time": "2023-06-24T14:20:46.338184",
     "exception": false,
     "start_time": "2023-06-24T14:20:46.320958",
     "status": "completed"
    },
    "tags": []
   },
   "source": [
    "## Data visualisation for numeric data"
   ]
  },
  {
   "cell_type": "code",
   "execution_count": 22,
   "id": "3a729c5b",
   "metadata": {
    "execution": {
     "iopub.execute_input": "2023-06-24T14:20:46.372538Z",
     "iopub.status.busy": "2023-06-24T14:20:46.371372Z",
     "iopub.status.idle": "2023-06-24T14:20:46.796125Z",
     "shell.execute_reply": "2023-06-24T14:20:46.794713Z"
    },
    "papermill": {
     "duration": 0.444368,
     "end_time": "2023-06-24T14:20:46.798582",
     "exception": false,
     "start_time": "2023-06-24T14:20:46.354214",
     "status": "completed"
    },
    "tags": []
   },
   "outputs": [
    {
     "data": {
      "text/plain": [
       "<Axes: >"
      ]
     },
     "execution_count": 22,
     "metadata": {},
     "output_type": "execute_result"
    },
    {
     "data": {
      "image/png": "[encoded data removed]",
      "text/plain": [
       "<Figure size 640x480 with 1 Axes>"
      ]
     },
     "metadata": {},
     "output_type": "display_data"
    }
   ],
   "source": [
    "df.boxplot()"
   ]
  },
  {
   "cell_type": "markdown",
   "id": "8641796a",
   "metadata": {
    "papermill": {
     "duration": 0.017507,
     "end_time": "2023-06-24T14:20:46.833958",
     "exception": false,
     "start_time": "2023-06-24T14:20:46.816451",
     "status": "completed"
    },
    "tags": []
   },
   "source": [
    "### Function for univariate data visualisation"
   ]
  },
  {
   "cell_type": "code",
   "execution_count": 23,
   "id": "ff48a25e",
   "metadata": {
    "execution": {
     "iopub.execute_input": "2023-06-24T14:20:46.871443Z",
     "iopub.status.busy": "2023-06-24T14:20:46.870266Z",
     "iopub.status.idle": "2023-06-24T14:20:46.878140Z",
     "shell.execute_reply": "2023-06-24T14:20:46.876917Z"
    },
    "papermill": {
     "duration": 0.02867,
     "end_time": "2023-06-24T14:20:46.880398",
     "exception": false,
     "start_time": "2023-06-24T14:20:46.851728",
     "status": "completed"
    },
    "tags": []
   },
   "outputs": [],
   "source": [
    "def uni_plot(columns):\n",
    "    plt.figure(figsize=(15,10))\n",
    "    plt.subplot(2,2,1)\n",
    "    sns.histplot(data=df,x=columns,kde=True,bins=20)\n",
    "    plt.title('Histogram of {}'.format(columns))\n",
    "    plt.subplot(2,2,2)\n",
    "    sns.boxplot(data=df,x=columns)\n",
    "    plt.title('Boxplot of {}'.format(columns))\n",
    "    plt.show()"
   ]
  },
  {
   "cell_type": "code",
   "execution_count": 24,
   "id": "c28fbc21",
   "metadata": {
    "execution": {
     "iopub.execute_input": "2023-06-24T14:20:46.917169Z",
     "iopub.status.busy": "2023-06-24T14:20:46.916041Z",
     "iopub.status.idle": "2023-06-24T14:20:50.487925Z",
     "shell.execute_reply": "2023-06-24T14:20:50.486862Z"
    },
    "papermill": {
     "duration": 3.592839,
     "end_time": "2023-06-24T14:20:50.489929",
     "exception": false,
     "start_time": "2023-06-24T14:20:46.897090",
     "status": "completed"
    },
    "tags": []
   },
   "outputs": [
    {
     "data": {
      "image/png": "[encoded data removed]",
      "text/plain": [
       "<Figure size 1500x1000 with 2 Axes>"
      ]
     },
     "metadata": {},
     "output_type": "display_data"
    },
    {
     "data": {
      "image/png": "[encoded data removed]",
      "text/plain": [
       "<Figure size 1500x1000 with 2 Axes>"
      ]
     },
     "metadata": {},
     "output_type": "display_data"
    },
    {
     "data": {
      "image/png": "[encoded data removed]",
      "text/plain": [
       "<Figure size 1500x1000 with 2 Axes>"
      ]
     },
     "metadata": {},
     "output_type": "display_data"
    },
    {
     "data": {
      "image/png": "[encoded data removed]",
      "text/plain": [
       "<Figure size 1500x1000 with 2 Axes>"
      ]
     },
     "metadata": {},
     "output_type": "display_data"
    },
    {
     "data": {
      "image/png": "[encoded data removed]",
      "text/plain": [
       "<Figure size 1500x1000 with 2 Axes>"
      ]
     },
     "metadata": {},
     "output_type": "display_data"
    },
    {
     "data": {
      "image/png": "[encoded data removed]",
      "text/plain": [
       "<Figure size 1500x1000 with 2 Axes>"
      ]
     },
     "metadata": {},
     "output_type": "display_data"
    },
    {
     "data": {
      "image/png": "[encoded data removed]",
      "text/plain": [
       "<Figure size 1500x1000 with 2 Axes>"
      ]
     },
     "metadata": {},
     "output_type": "display_data"
    }
   ],
   "source": [
    "for i in df .select_dtypes(exclude='object'):\n",
    "    uni_plot(i)"
   ]
  },
  {
   "cell_type": "code",
   "execution_count": 25,
   "id": "5ec231e1",
   "metadata": {
    "execution": {
     "iopub.execute_input": "2023-06-24T14:20:50.531741Z",
     "iopub.status.busy": "2023-06-24T14:20:50.531396Z",
     "iopub.status.idle": "2023-06-24T14:20:50.537187Z",
     "shell.execute_reply": "2023-06-24T14:20:50.536295Z"
    },
    "papermill": {
     "duration": 0.029867,
     "end_time": "2023-06-24T14:20:50.539976",
     "exception": false,
     "start_time": "2023-06-24T14:20:50.510109",
     "status": "completed"
    },
    "tags": []
   },
   "outputs": [],
   "source": [
    "def outliers_per(col):\n",
    "    Q1 = np.quantile(df[col],.25)\n",
    "    Q3 = np.quantile(df[col],.75)\n",
    "    IQR = Q3-Q1\n",
    "    lower_range = Q1-(1.5*IQR)\n",
    "    upper_range = Q3+(1.5*IQR)\n",
    "    upper_count = df[df[col] > upper_range][col].count()\n",
    "    upper_percentage = (upper_count/df.shape[0])*100\n",
    "    lower_count = df[df[col] < lower_range][col].count()\n",
    "    lower_percentage = (lower_count/df.shape[0])*100\n",
    "    return print('Outlier percentage of {col} upper range is {upper}% and lower range is {lower}%\\n'.format(col=col,upper=round(upper_percentage,2),lower=round(lower_percentage,2)))"
   ]
  },
  {
   "cell_type": "code",
   "execution_count": 26,
   "id": "a0a20eed",
   "metadata": {
    "execution": {
     "iopub.execute_input": "2023-06-24T14:20:50.585303Z",
     "iopub.status.busy": "2023-06-24T14:20:50.583731Z",
     "iopub.status.idle": "2023-06-24T14:20:50.612200Z",
     "shell.execute_reply": "2023-06-24T14:20:50.610811Z"
    },
    "papermill": {
     "duration": 0.053861,
     "end_time": "2023-06-24T14:20:50.614215",
     "exception": false,
     "start_time": "2023-06-24T14:20:50.560354",
     "status": "completed"
    },
    "tags": []
   },
   "outputs": [
    {
     "name": "stdout",
     "output_type": "stream",
     "text": [
      "Outlier percentage of carat upper range is 2.45% and lower range is 0.0%\n",
      "\n",
      "Outlier percentage of depth upper range is 1.92% and lower range is 3.34%\n",
      "\n",
      "Outlier percentage of table upper range is 1.15% and lower range is 0.03%\n",
      "\n",
      "Outlier percentage of x upper range is 0.04% and lower range is 0.0%\n",
      "\n",
      "Outlier percentage of y upper range is 0.04% and lower range is 0.0%\n",
      "\n",
      "Outlier percentage of z upper range is 0.05% and lower range is 0.0%\n",
      "\n",
      "Outlier percentage of price upper range is 6.6% and lower range is 0.0%\n",
      "\n"
     ]
    }
   ],
   "source": [
    "for i in df.select_dtypes(exclude='object').columns:\n",
    "    outliers_per(i)"
   ]
  },
  {
   "cell_type": "code",
   "execution_count": 27,
   "id": "7a0ada79",
   "metadata": {
    "execution": {
     "iopub.execute_input": "2023-06-24T14:20:50.656075Z",
     "iopub.status.busy": "2023-06-24T14:20:50.655439Z",
     "iopub.status.idle": "2023-06-24T14:20:50.914444Z",
     "shell.execute_reply": "2023-06-24T14:20:50.913443Z"
    },
    "papermill": {
     "duration": 0.28313,
     "end_time": "2023-06-24T14:20:50.917123",
     "exception": false,
     "start_time": "2023-06-24T14:20:50.633993",
     "status": "completed"
    },
    "tags": []
   },
   "outputs": [
    {
     "name": "stderr",
     "output_type": "stream",
     "text": [
      "/tmp/ipykernel_21/3501603590.py:1: FutureWarning: The default value of numeric_only in DataFrame.corr is deprecated. In a future version, it will default to False. Select only valid columns or specify the value of numeric_only to silence this warning.\n",
      "  sns.heatmap(df.corr(),annot=True,cbar=False,mask=np.triu(df.corr(),+1))\n"
     ]
    },
    {
     "data": {
      "text/plain": [
       "<Axes: >"
      ]
     },
     "execution_count": 27,
     "metadata": {},
     "output_type": "execute_result"
    },
    {
     "data": {
      "image/png": "[encoded data removed]",
      "text/plain": [
       "<Figure size 640x480 with 1 Axes>"
      ]
     },
     "metadata": {},
     "output_type": "display_data"
    }
   ],
   "source": [
    "sns.heatmap(df.corr(),annot=True,cbar=False,mask=np.triu(df.corr(),+1))"
   ]
  },
  {
   "cell_type": "markdown",
   "id": "719d49d0",
   "metadata": {
    "papermill": {
     "duration": 0.02023,
     "end_time": "2023-06-24T14:20:50.957964",
     "exception": false,
     "start_time": "2023-06-24T14:20:50.937734",
     "status": "completed"
    },
    "tags": []
   },
   "source": [
    "## Bi variate Analysis\n",
    "### It is done According to dependent col and categorical col\n",
    "### Merging all nearby median values in price"
   ]
  },
  {
   "cell_type": "code",
   "execution_count": 28,
   "id": "d68d022c",
   "metadata": {
    "execution": {
     "iopub.execute_input": "2023-06-24T14:20:51.001098Z",
     "iopub.status.busy": "2023-06-24T14:20:51.000712Z",
     "iopub.status.idle": "2023-06-24T14:20:51.247748Z",
     "shell.execute_reply": "2023-06-24T14:20:51.246993Z"
    },
    "papermill": {
     "duration": 0.271159,
     "end_time": "2023-06-24T14:20:51.249556",
     "exception": false,
     "start_time": "2023-06-24T14:20:50.978397",
     "status": "completed"
    },
    "tags": []
   },
   "outputs": [
    {
     "data": {
      "text/plain": [
       "<Axes: xlabel='cut', ylabel='price'>"
      ]
     },
     "execution_count": 28,
     "metadata": {},
     "output_type": "execute_result"
    },
    {
     "data": {
      "image/png": "[encoded data removed]",
      "text/plain": [
       "<Figure size 640x480 with 1 Axes>"
      ]
     },
     "metadata": {},
     "output_type": "display_data"
    }
   ],
   "source": [
    "sns.boxplot(data=df,y='price',x='cut',order=['Fair','Good','Very Good','Premium','Ideal'])# Compare eith median columns"
   ]
  },
  {
   "cell_type": "code",
   "execution_count": 29,
   "id": "b29e6137",
   "metadata": {
    "execution": {
     "iopub.execute_input": "2023-06-24T14:20:51.298401Z",
     "iopub.status.busy": "2023-06-24T14:20:51.297028Z",
     "iopub.status.idle": "2023-06-24T14:20:51.325371Z",
     "shell.execute_reply": "2023-06-24T14:20:51.324300Z"
    },
    "papermill": {
     "duration": 0.056367,
     "end_time": "2023-06-24T14:20:51.327417",
     "exception": false,
     "start_time": "2023-06-24T14:20:51.271050",
     "status": "completed"
    },
    "tags": []
   },
   "outputs": [
    {
     "name": "stderr",
     "output_type": "stream",
     "text": [
      "/tmp/ipykernel_21/2050071662.py:1: FutureWarning: The default value of numeric_only in DataFrameGroupBy.median is deprecated. In a future version, numeric_only will default to False. Either specify numeric_only or select only columns which should be valid for the function.\n",
      "  df.groupby('cut').median().T\n"
     ]
    },
    {
     "data": {
      "text/html": [
       "<div>\n",
       "<style scoped>\n",
       "    .dataframe tbody tr th:only-of-type {\n",
       "        vertical-align: middle;\n",
       "    }\n",
       "\n",
       "    .dataframe tbody tr th {\n",
       "        vertical-align: top;\n",
       "    }\n",
       "\n",
       "    .dataframe thead th {\n",
       "        text-align: right;\n",
       "    }\n",
       "</style>\n",
       "<table border=\"1\" class=\"dataframe\">\n",
       "  <thead>\n",
       "    <tr style=\"text-align: right;\">\n",
       "      <th>cut</th>\n",
       "      <th>Fair</th>\n",
       "      <th>Good</th>\n",
       "      <th>Ideal</th>\n",
       "      <th>Premium</th>\n",
       "      <th>Very Good</th>\n",
       "    </tr>\n",
       "  </thead>\n",
       "  <tbody>\n",
       "    <tr>\n",
       "      <th>carat</th>\n",
       "      <td>1.00</td>\n",
       "      <td>0.84</td>\n",
       "      <td>0.54</td>\n",
       "      <td>0.83</td>\n",
       "      <td>0.72</td>\n",
       "    </tr>\n",
       "    <tr>\n",
       "      <th>depth</th>\n",
       "      <td>64.90</td>\n",
       "      <td>63.30</td>\n",
       "      <td>61.80</td>\n",
       "      <td>61.50</td>\n",
       "      <td>62.10</td>\n",
       "    </tr>\n",
       "    <tr>\n",
       "      <th>table</th>\n",
       "      <td>58.00</td>\n",
       "      <td>58.00</td>\n",
       "      <td>56.00</td>\n",
       "      <td>59.00</td>\n",
       "      <td>58.00</td>\n",
       "    </tr>\n",
       "    <tr>\n",
       "      <th>x</th>\n",
       "      <td>6.19</td>\n",
       "      <td>6.01</td>\n",
       "      <td>5.23</td>\n",
       "      <td>6.08</td>\n",
       "      <td>5.74</td>\n",
       "    </tr>\n",
       "    <tr>\n",
       "      <th>y</th>\n",
       "      <td>6.12</td>\n",
       "      <td>6.02</td>\n",
       "      <td>5.25</td>\n",
       "      <td>6.04</td>\n",
       "      <td>5.78</td>\n",
       "    </tr>\n",
       "    <tr>\n",
       "      <th>z</th>\n",
       "      <td>3.99</td>\n",
       "      <td>3.70</td>\n",
       "      <td>3.23</td>\n",
       "      <td>3.70</td>\n",
       "      <td>3.56</td>\n",
       "    </tr>\n",
       "    <tr>\n",
       "      <th>price</th>\n",
       "      <td>3348.00</td>\n",
       "      <td>3098.00</td>\n",
       "      <td>1761.00</td>\n",
       "      <td>3121.00</td>\n",
       "      <td>2637.00</td>\n",
       "    </tr>\n",
       "  </tbody>\n",
       "</table>\n",
       "</div>"
      ],
      "text/plain": [
       "cut       Fair     Good    Ideal  Premium  Very Good\n",
       "carat     1.00     0.84     0.54     0.83       0.72\n",
       "depth    64.90    63.30    61.80    61.50      62.10\n",
       "table    58.00    58.00    56.00    59.00      58.00\n",
       "x         6.19     6.01     5.23     6.08       5.74\n",
       "y         6.12     6.02     5.25     6.04       5.78\n",
       "z         3.99     3.70     3.23     3.70       3.56\n",
       "price  3348.00  3098.00  1761.00  3121.00    2637.00"
      ]
     },
     "execution_count": 29,
     "metadata": {},
     "output_type": "execute_result"
    }
   ],
   "source": [
    "df.groupby('cut').median().T"
   ]
  },
  {
   "cell_type": "code",
   "execution_count": 30,
   "id": "c0c88c62",
   "metadata": {
    "execution": {
     "iopub.execute_input": "2023-06-24T14:20:51.373907Z",
     "iopub.status.busy": "2023-06-24T14:20:51.372372Z",
     "iopub.status.idle": "2023-06-24T14:20:51.387991Z",
     "shell.execute_reply": "2023-06-24T14:20:51.386826Z"
    },
    "papermill": {
     "duration": 0.042309,
     "end_time": "2023-06-24T14:20:51.390929",
     "exception": false,
     "start_time": "2023-06-24T14:20:51.348620",
     "status": "completed"
    },
    "tags": []
   },
   "outputs": [],
   "source": [
    "df['cut'] = np.where(df['cut'] == 'Fair', 'Premium',df['cut'])# where ever the color is F, replace with G otherwise replace it with same\n",
    "df['cut'] = np.where(df['cut'] == 'Very Good', 'Good',df['cut'])#This is Data Transformation"
   ]
  },
  {
   "cell_type": "code",
   "execution_count": 31,
   "id": "5187f493",
   "metadata": {
    "execution": {
     "iopub.execute_input": "2023-06-24T14:20:51.441343Z",
     "iopub.status.busy": "2023-06-24T14:20:51.439778Z",
     "iopub.status.idle": "2023-06-24T14:20:51.450285Z",
     "shell.execute_reply": "2023-06-24T14:20:51.449237Z"
    },
    "papermill": {
     "duration": 0.038292,
     "end_time": "2023-06-24T14:20:51.452390",
     "exception": false,
     "start_time": "2023-06-24T14:20:51.414098",
     "status": "completed"
    },
    "tags": []
   },
   "outputs": [
    {
     "data": {
      "text/plain": [
       "Ideal      10816\n",
       "Good        8471\n",
       "Premium     7680\n",
       "Name: cut, dtype: int64"
      ]
     },
     "execution_count": 31,
     "metadata": {},
     "output_type": "execute_result"
    }
   ],
   "source": [
    "df['cut'].value_counts()"
   ]
  },
  {
   "cell_type": "code",
   "execution_count": 32,
   "id": "536a5667",
   "metadata": {
    "execution": {
     "iopub.execute_input": "2023-06-24T14:20:51.504883Z",
     "iopub.status.busy": "2023-06-24T14:20:51.504483Z",
     "iopub.status.idle": "2023-06-24T14:20:51.740342Z",
     "shell.execute_reply": "2023-06-24T14:20:51.739309Z"
    },
    "papermill": {
     "duration": 0.268323,
     "end_time": "2023-06-24T14:20:51.742776",
     "exception": false,
     "start_time": "2023-06-24T14:20:51.474453",
     "status": "completed"
    },
    "tags": []
   },
   "outputs": [
    {
     "data": {
      "text/plain": [
       "<Axes: xlabel='cut', ylabel='price'>"
      ]
     },
     "execution_count": 32,
     "metadata": {},
     "output_type": "execute_result"
    },
    {
     "data": {
      "image/png": "[encoded data removed]",
      "text/plain": [
       "<Figure size 640x480 with 1 Axes>"
      ]
     },
     "metadata": {},
     "output_type": "display_data"
    }
   ],
   "source": [
    "sns.boxplot(data=df,y='price',x='cut')"
   ]
  },
  {
   "cell_type": "code",
   "execution_count": 33,
   "id": "b4161000",
   "metadata": {
    "execution": {
     "iopub.execute_input": "2023-06-24T14:20:51.788488Z",
     "iopub.status.busy": "2023-06-24T14:20:51.788096Z",
     "iopub.status.idle": "2023-06-24T14:20:52.091139Z",
     "shell.execute_reply": "2023-06-24T14:20:52.089657Z"
    },
    "papermill": {
     "duration": 0.32945,
     "end_time": "2023-06-24T14:20:52.094056",
     "exception": false,
     "start_time": "2023-06-24T14:20:51.764606",
     "status": "completed"
    },
    "tags": []
   },
   "outputs": [
    {
     "data": {
      "text/plain": [
       "<Axes: xlabel='clarity', ylabel='price'>"
      ]
     },
     "execution_count": 33,
     "metadata": {},
     "output_type": "execute_result"
    },
    {
     "data": {
      "image/png": "[encoded data removed]",
      "text/plain": [
       "<Figure size 640x480 with 1 Axes>"
      ]
     },
     "metadata": {},
     "output_type": "display_data"
    }
   ],
   "source": [
    "sns.boxplot(data=df,y='price',x='clarity')"
   ]
  },
  {
   "cell_type": "code",
   "execution_count": 34,
   "id": "e72c6dce",
   "metadata": {
    "execution": {
     "iopub.execute_input": "2023-06-24T14:20:52.149019Z",
     "iopub.status.busy": "2023-06-24T14:20:52.148039Z",
     "iopub.status.idle": "2023-06-24T14:20:52.175273Z",
     "shell.execute_reply": "2023-06-24T14:20:52.173942Z"
    },
    "papermill": {
     "duration": 0.059871,
     "end_time": "2023-06-24T14:20:52.177589",
     "exception": false,
     "start_time": "2023-06-24T14:20:52.117718",
     "status": "completed"
    },
    "tags": []
   },
   "outputs": [
    {
     "name": "stderr",
     "output_type": "stream",
     "text": [
      "/tmp/ipykernel_21/648690855.py:1: FutureWarning: The default value of numeric_only in DataFrameGroupBy.median is deprecated. In a future version, numeric_only will default to False. Either specify numeric_only or select only columns which should be valid for the function.\n",
      "  df.groupby('clarity').median().T\n"
     ]
    },
    {
     "data": {
      "text/html": [
       "<div>\n",
       "<style scoped>\n",
       "    .dataframe tbody tr th:only-of-type {\n",
       "        vertical-align: middle;\n",
       "    }\n",
       "\n",
       "    .dataframe tbody tr th {\n",
       "        vertical-align: top;\n",
       "    }\n",
       "\n",
       "    .dataframe thead th {\n",
       "        text-align: right;\n",
       "    }\n",
       "</style>\n",
       "<table border=\"1\" class=\"dataframe\">\n",
       "  <thead>\n",
       "    <tr style=\"text-align: right;\">\n",
       "      <th>clarity</th>\n",
       "      <th>I1</th>\n",
       "      <th>IF</th>\n",
       "      <th>SI1</th>\n",
       "      <th>SI2</th>\n",
       "      <th>VS1</th>\n",
       "      <th>VS2</th>\n",
       "      <th>VVS1</th>\n",
       "      <th>VVS2</th>\n",
       "    </tr>\n",
       "  </thead>\n",
       "  <tbody>\n",
       "    <tr>\n",
       "      <th>carat</th>\n",
       "      <td>1.12</td>\n",
       "      <td>0.350</td>\n",
       "      <td>0.76</td>\n",
       "      <td>1.01</td>\n",
       "      <td>0.57</td>\n",
       "      <td>0.64</td>\n",
       "      <td>0.38</td>\n",
       "      <td>0.43</td>\n",
       "    </tr>\n",
       "    <tr>\n",
       "      <th>depth</th>\n",
       "      <td>62.10</td>\n",
       "      <td>61.700</td>\n",
       "      <td>61.90</td>\n",
       "      <td>61.90</td>\n",
       "      <td>61.80</td>\n",
       "      <td>61.80</td>\n",
       "      <td>61.80</td>\n",
       "      <td>61.80</td>\n",
       "    </tr>\n",
       "    <tr>\n",
       "      <th>table</th>\n",
       "      <td>58.00</td>\n",
       "      <td>56.000</td>\n",
       "      <td>57.00</td>\n",
       "      <td>58.00</td>\n",
       "      <td>57.00</td>\n",
       "      <td>57.00</td>\n",
       "      <td>57.00</td>\n",
       "      <td>57.00</td>\n",
       "    </tr>\n",
       "    <tr>\n",
       "      <th>x</th>\n",
       "      <td>6.66</td>\n",
       "      <td>4.570</td>\n",
       "      <td>5.86</td>\n",
       "      <td>6.43</td>\n",
       "      <td>5.33</td>\n",
       "      <td>5.55</td>\n",
       "      <td>4.67</td>\n",
       "      <td>4.85</td>\n",
       "    </tr>\n",
       "    <tr>\n",
       "      <th>y</th>\n",
       "      <td>6.62</td>\n",
       "      <td>4.585</td>\n",
       "      <td>5.86</td>\n",
       "      <td>6.42</td>\n",
       "      <td>5.34</td>\n",
       "      <td>5.55</td>\n",
       "      <td>4.70</td>\n",
       "      <td>4.87</td>\n",
       "    </tr>\n",
       "    <tr>\n",
       "      <th>z</th>\n",
       "      <td>4.13</td>\n",
       "      <td>2.800</td>\n",
       "      <td>3.61</td>\n",
       "      <td>3.98</td>\n",
       "      <td>3.28</td>\n",
       "      <td>3.40</td>\n",
       "      <td>2.87</td>\n",
       "      <td>2.99</td>\n",
       "    </tr>\n",
       "    <tr>\n",
       "      <th>price</th>\n",
       "      <td>3459.00</td>\n",
       "      <td>1063.500</td>\n",
       "      <td>2799.00</td>\n",
       "      <td>4077.00</td>\n",
       "      <td>1949.00</td>\n",
       "      <td>2066.00</td>\n",
       "      <td>1066.00</td>\n",
       "      <td>1253.00</td>\n",
       "    </tr>\n",
       "  </tbody>\n",
       "</table>\n",
       "</div>"
      ],
      "text/plain": [
       "clarity       I1        IF      SI1      SI2      VS1      VS2     VVS1  \\\n",
       "carat       1.12     0.350     0.76     1.01     0.57     0.64     0.38   \n",
       "depth      62.10    61.700    61.90    61.90    61.80    61.80    61.80   \n",
       "table      58.00    56.000    57.00    58.00    57.00    57.00    57.00   \n",
       "x           6.66     4.570     5.86     6.43     5.33     5.55     4.67   \n",
       "y           6.62     4.585     5.86     6.42     5.34     5.55     4.70   \n",
       "z           4.13     2.800     3.61     3.98     3.28     3.40     2.87   \n",
       "price    3459.00  1063.500  2799.00  4077.00  1949.00  2066.00  1066.00   \n",
       "\n",
       "clarity     VVS2  \n",
       "carat       0.43  \n",
       "depth      61.80  \n",
       "table      57.00  \n",
       "x           4.85  \n",
       "y           4.87  \n",
       "z           2.99  \n",
       "price    1253.00  "
      ]
     },
     "execution_count": 34,
     "metadata": {},
     "output_type": "execute_result"
    }
   ],
   "source": [
    "df.groupby('clarity').median().T"
   ]
  },
  {
   "cell_type": "code",
   "execution_count": 35,
   "id": "492384f9",
   "metadata": {
    "execution": {
     "iopub.execute_input": "2023-06-24T14:20:52.228766Z",
     "iopub.status.busy": "2023-06-24T14:20:52.228350Z",
     "iopub.status.idle": "2023-06-24T14:20:52.243901Z",
     "shell.execute_reply": "2023-06-24T14:20:52.242375Z"
    },
    "papermill": {
     "duration": 0.046167,
     "end_time": "2023-06-24T14:20:52.247812",
     "exception": false,
     "start_time": "2023-06-24T14:20:52.201645",
     "status": "completed"
    },
    "tags": []
   },
   "outputs": [],
   "source": [
    "df['clarity'] = np.where(df['clarity'] == 'IF', 'VVS1',df['clarity'])\n",
    "df['clarity'] = np.where(df['clarity'] == 'VS1', 'VS2',df['clarity'])"
   ]
  },
  {
   "cell_type": "code",
   "execution_count": 36,
   "id": "0c43cd18",
   "metadata": {
    "execution": {
     "iopub.execute_input": "2023-06-24T14:20:52.310182Z",
     "iopub.status.busy": "2023-06-24T14:20:52.309757Z",
     "iopub.status.idle": "2023-06-24T14:20:52.321071Z",
     "shell.execute_reply": "2023-06-24T14:20:52.320068Z"
    },
    "papermill": {
     "duration": 0.048358,
     "end_time": "2023-06-24T14:20:52.323297",
     "exception": false,
     "start_time": "2023-06-24T14:20:52.274939",
     "status": "completed"
    },
    "tags": []
   },
   "outputs": [
    {
     "data": {
      "text/plain": [
       "VS2     10192\n",
       "SI1      6571\n",
       "SI2      4575\n",
       "VVS1     2733\n",
       "VVS2     2531\n",
       "I1        365\n",
       "Name: clarity, dtype: int64"
      ]
     },
     "execution_count": 36,
     "metadata": {},
     "output_type": "execute_result"
    }
   ],
   "source": [
    "df['clarity'].value_counts()"
   ]
  },
  {
   "cell_type": "code",
   "execution_count": 37,
   "id": "b37c3b63",
   "metadata": {
    "execution": {
     "iopub.execute_input": "2023-06-24T14:20:52.371389Z",
     "iopub.status.busy": "2023-06-24T14:20:52.370952Z",
     "iopub.status.idle": "2023-06-24T14:20:52.638801Z",
     "shell.execute_reply": "2023-06-24T14:20:52.637923Z"
    },
    "papermill": {
     "duration": 0.293662,
     "end_time": "2023-06-24T14:20:52.640853",
     "exception": false,
     "start_time": "2023-06-24T14:20:52.347191",
     "status": "completed"
    },
    "tags": []
   },
   "outputs": [
    {
     "data": {
      "text/plain": [
       "<Axes: xlabel='clarity', ylabel='price'>"
      ]
     },
     "execution_count": 37,
     "metadata": {},
     "output_type": "execute_result"
    },
    {
     "data": {
      "image/png": "[encoded data removed]",
      "text/plain": [
       "<Figure size 640x480 with 1 Axes>"
      ]
     },
     "metadata": {},
     "output_type": "display_data"
    }
   ],
   "source": [
    "sns.boxplot(data=df,y='price',x='clarity')"
   ]
  },
  {
   "cell_type": "code",
   "execution_count": 38,
   "id": "85309993",
   "metadata": {
    "execution": {
     "iopub.execute_input": "2023-06-24T14:20:52.690284Z",
     "iopub.status.busy": "2023-06-24T14:20:52.689921Z",
     "iopub.status.idle": "2023-06-24T14:20:52.962803Z",
     "shell.execute_reply": "2023-06-24T14:20:52.961792Z"
    },
    "papermill": {
     "duration": 0.301201,
     "end_time": "2023-06-24T14:20:52.964994",
     "exception": false,
     "start_time": "2023-06-24T14:20:52.663793",
     "status": "completed"
    },
    "tags": []
   },
   "outputs": [
    {
     "data": {
      "text/plain": [
       "<Axes: xlabel='color', ylabel='price'>"
      ]
     },
     "execution_count": 38,
     "metadata": {},
     "output_type": "execute_result"
    },
    {
     "data": {
      "image/png": "[encoded data removed]",
      "text/plain": [
       "<Figure size 640x480 with 1 Axes>"
      ]
     },
     "metadata": {},
     "output_type": "display_data"
    }
   ],
   "source": [
    "sns.boxplot(data=df,y='price',x='color') "
   ]
  },
  {
   "cell_type": "code",
   "execution_count": 39,
   "id": "d8d4781a",
   "metadata": {
    "execution": {
     "iopub.execute_input": "2023-06-24T14:20:53.013169Z",
     "iopub.status.busy": "2023-06-24T14:20:53.012838Z",
     "iopub.status.idle": "2023-06-24T14:20:53.035045Z",
     "shell.execute_reply": "2023-06-24T14:20:53.033286Z"
    },
    "papermill": {
     "duration": 0.049662,
     "end_time": "2023-06-24T14:20:53.037771",
     "exception": false,
     "start_time": "2023-06-24T14:20:52.988109",
     "status": "completed"
    },
    "tags": []
   },
   "outputs": [
    {
     "name": "stderr",
     "output_type": "stream",
     "text": [
      "/tmp/ipykernel_21/543326328.py:1: FutureWarning: The default value of numeric_only in DataFrameGroupBy.median is deprecated. In a future version, numeric_only will default to False. Either specify numeric_only or select only columns which should be valid for the function.\n",
      "  df.groupby('color').median().T\n"
     ]
    },
    {
     "data": {
      "text/html": [
       "<div>\n",
       "<style scoped>\n",
       "    .dataframe tbody tr th:only-of-type {\n",
       "        vertical-align: middle;\n",
       "    }\n",
       "\n",
       "    .dataframe tbody tr th {\n",
       "        vertical-align: top;\n",
       "    }\n",
       "\n",
       "    .dataframe thead th {\n",
       "        text-align: right;\n",
       "    }\n",
       "</style>\n",
       "<table border=\"1\" class=\"dataframe\">\n",
       "  <thead>\n",
       "    <tr style=\"text-align: right;\">\n",
       "      <th>color</th>\n",
       "      <th>D</th>\n",
       "      <th>E</th>\n",
       "      <th>F</th>\n",
       "      <th>G</th>\n",
       "      <th>H</th>\n",
       "      <th>I</th>\n",
       "      <th>J</th>\n",
       "    </tr>\n",
       "  </thead>\n",
       "  <tbody>\n",
       "    <tr>\n",
       "      <th>carat</th>\n",
       "      <td>0.53</td>\n",
       "      <td>0.53</td>\n",
       "      <td>0.70</td>\n",
       "      <td>0.70</td>\n",
       "      <td>0.90</td>\n",
       "      <td>1.01</td>\n",
       "      <td>1.11</td>\n",
       "    </tr>\n",
       "    <tr>\n",
       "      <th>depth</th>\n",
       "      <td>61.80</td>\n",
       "      <td>61.80</td>\n",
       "      <td>61.80</td>\n",
       "      <td>61.80</td>\n",
       "      <td>61.90</td>\n",
       "      <td>61.90</td>\n",
       "      <td>61.90</td>\n",
       "    </tr>\n",
       "    <tr>\n",
       "      <th>table</th>\n",
       "      <td>57.00</td>\n",
       "      <td>57.00</td>\n",
       "      <td>57.00</td>\n",
       "      <td>57.00</td>\n",
       "      <td>57.00</td>\n",
       "      <td>57.00</td>\n",
       "      <td>58.00</td>\n",
       "    </tr>\n",
       "    <tr>\n",
       "      <th>x</th>\n",
       "      <td>5.21</td>\n",
       "      <td>5.22</td>\n",
       "      <td>5.62</td>\n",
       "      <td>5.65</td>\n",
       "      <td>6.13</td>\n",
       "      <td>6.37</td>\n",
       "      <td>6.65</td>\n",
       "    </tr>\n",
       "    <tr>\n",
       "      <th>y</th>\n",
       "      <td>5.22</td>\n",
       "      <td>5.23</td>\n",
       "      <td>5.62</td>\n",
       "      <td>5.65</td>\n",
       "      <td>6.13</td>\n",
       "      <td>6.36</td>\n",
       "      <td>6.65</td>\n",
       "    </tr>\n",
       "    <tr>\n",
       "      <th>z</th>\n",
       "      <td>3.21</td>\n",
       "      <td>3.22</td>\n",
       "      <td>3.45</td>\n",
       "      <td>3.49</td>\n",
       "      <td>3.80</td>\n",
       "      <td>3.94</td>\n",
       "      <td>4.11</td>\n",
       "    </tr>\n",
       "    <tr>\n",
       "      <th>price</th>\n",
       "      <td>1800.50</td>\n",
       "      <td>1698.00</td>\n",
       "      <td>2278.00</td>\n",
       "      <td>2274.00</td>\n",
       "      <td>3413.00</td>\n",
       "      <td>3749.00</td>\n",
       "      <td>4234.00</td>\n",
       "    </tr>\n",
       "  </tbody>\n",
       "</table>\n",
       "</div>"
      ],
      "text/plain": [
       "color        D        E        F        G        H        I        J\n",
       "carat     0.53     0.53     0.70     0.70     0.90     1.01     1.11\n",
       "depth    61.80    61.80    61.80    61.80    61.90    61.90    61.90\n",
       "table    57.00    57.00    57.00    57.00    57.00    57.00    58.00\n",
       "x         5.21     5.22     5.62     5.65     6.13     6.37     6.65\n",
       "y         5.22     5.23     5.62     5.65     6.13     6.36     6.65\n",
       "z         3.21     3.22     3.45     3.49     3.80     3.94     4.11\n",
       "price  1800.50  1698.00  2278.00  2274.00  3413.00  3749.00  4234.00"
      ]
     },
     "execution_count": 39,
     "metadata": {},
     "output_type": "execute_result"
    }
   ],
   "source": [
    "df.groupby('color').median().T"
   ]
  },
  {
   "cell_type": "code",
   "execution_count": 40,
   "id": "13941138",
   "metadata": {
    "execution": {
     "iopub.execute_input": "2023-06-24T14:20:53.092218Z",
     "iopub.status.busy": "2023-06-24T14:20:53.091718Z",
     "iopub.status.idle": "2023-06-24T14:20:53.103934Z",
     "shell.execute_reply": "2023-06-24T14:20:53.102418Z"
    },
    "papermill": {
     "duration": 0.043739,
     "end_time": "2023-06-24T14:20:53.106788",
     "exception": false,
     "start_time": "2023-06-24T14:20:53.063049",
     "status": "completed"
    },
    "tags": []
   },
   "outputs": [],
   "source": [
    "df['color'] = np.where(df['color'] == 'F','G',df['color']) \n",
    "df['color'] = np.where(df['color'] == 'D','E',df['color'])"
   ]
  },
  {
   "cell_type": "code",
   "execution_count": 41,
   "id": "178ef137",
   "metadata": {
    "execution": {
     "iopub.execute_input": "2023-06-24T14:20:53.157801Z",
     "iopub.status.busy": "2023-06-24T14:20:53.157415Z",
     "iopub.status.idle": "2023-06-24T14:20:53.167165Z",
     "shell.execute_reply": "2023-06-24T14:20:53.165761Z"
    },
    "papermill": {
     "duration": 0.03827,
     "end_time": "2023-06-24T14:20:53.169854",
     "exception": false,
     "start_time": "2023-06-24T14:20:53.131584",
     "status": "completed"
    },
    "tags": []
   },
   "outputs": [
    {
     "data": {
      "text/plain": [
       "G    10390\n",
       "E     8261\n",
       "H     4102\n",
       "I     2771\n",
       "J     1443\n",
       "Name: color, dtype: int64"
      ]
     },
     "execution_count": 41,
     "metadata": {},
     "output_type": "execute_result"
    }
   ],
   "source": [
    "df['color'].value_counts()"
   ]
  },
  {
   "cell_type": "code",
   "execution_count": 42,
   "id": "297391ff",
   "metadata": {
    "execution": {
     "iopub.execute_input": "2023-06-24T14:20:53.223092Z",
     "iopub.status.busy": "2023-06-24T14:20:53.221730Z",
     "iopub.status.idle": "2023-06-24T14:20:53.474056Z",
     "shell.execute_reply": "2023-06-24T14:20:53.472418Z"
    },
    "papermill": {
     "duration": 0.281051,
     "end_time": "2023-06-24T14:20:53.476381",
     "exception": false,
     "start_time": "2023-06-24T14:20:53.195330",
     "status": "completed"
    },
    "tags": []
   },
   "outputs": [
    {
     "data": {
      "text/plain": [
       "<Axes: xlabel='color', ylabel='price'>"
      ]
     },
     "execution_count": 42,
     "metadata": {},
     "output_type": "execute_result"
    },
    {
     "data": {
      "image/png": "[encoded data removed]",
      "text/plain": [
       "<Figure size 640x480 with 1 Axes>"
      ]
     },
     "metadata": {},
     "output_type": "display_data"
    }
   ],
   "source": [
    "sns.boxplot(data=df,y='price',x='color') "
   ]
  },
  {
   "cell_type": "markdown",
   "id": "7373802e",
   "metadata": {
    "papermill": {
     "duration": 0.023927,
     "end_time": "2023-06-24T14:20:53.524757",
     "exception": false,
     "start_time": "2023-06-24T14:20:53.500830",
     "status": "completed"
    },
    "tags": []
   },
   "source": [
    "## Data Encoding -- Conversion of categorical col to numerical col\n",
    "### For Nominal data we use \"One Hot Encoding\"\n",
    "### For Ordinal data we use \"Label Encoding\""
   ]
  },
  {
   "cell_type": "code",
   "execution_count": 43,
   "id": "fb5a9d91",
   "metadata": {
    "execution": {
     "iopub.execute_input": "2023-06-24T14:20:53.576369Z",
     "iopub.status.busy": "2023-06-24T14:20:53.575911Z",
     "iopub.status.idle": "2023-06-24T14:20:53.597006Z",
     "shell.execute_reply": "2023-06-24T14:20:53.595421Z"
    },
    "papermill": {
     "duration": 0.050852,
     "end_time": "2023-06-24T14:20:53.599337",
     "exception": false,
     "start_time": "2023-06-24T14:20:53.548485",
     "status": "completed"
    },
    "tags": []
   },
   "outputs": [],
   "source": [
    "df['color'] = np.where(df['color'] == 'E', '1',df['color'])#Method 1 for replacing\n",
    "df['color'] = np.where(df['color'] == 'G', '2',df['color'])\n",
    "df['color'] = np.where(df['color'] == 'H', '3',df['color'])\n",
    "df['color'] = np.where(df['color'] == 'I', '4',df['color'])\n",
    "df['color'] = np.where(df['color'] == 'J', '5',df['color'])"
   ]
  },
  {
   "cell_type": "code",
   "execution_count": 44,
   "id": "ab5edca9",
   "metadata": {
    "execution": {
     "iopub.execute_input": "2023-06-24T14:20:53.651389Z",
     "iopub.status.busy": "2023-06-24T14:20:53.650944Z",
     "iopub.status.idle": "2023-06-24T14:20:53.658799Z",
     "shell.execute_reply": "2023-06-24T14:20:53.657349Z"
    },
    "papermill": {
     "duration": 0.036014,
     "end_time": "2023-06-24T14:20:53.661402",
     "exception": false,
     "start_time": "2023-06-24T14:20:53.625388",
     "status": "completed"
    },
    "tags": []
   },
   "outputs": [],
   "source": [
    "df['color'] = df['color'].astype('int')"
   ]
  },
  {
   "cell_type": "code",
   "execution_count": 45,
   "id": "b7d3d4bc",
   "metadata": {
    "execution": {
     "iopub.execute_input": "2023-06-24T14:20:53.714589Z",
     "iopub.status.busy": "2023-06-24T14:20:53.714110Z",
     "iopub.status.idle": "2023-06-24T14:20:53.727644Z",
     "shell.execute_reply": "2023-06-24T14:20:53.726940Z"
    },
    "papermill": {
     "duration": 0.04392,
     "end_time": "2023-06-24T14:20:53.730320",
     "exception": false,
     "start_time": "2023-06-24T14:20:53.686400",
     "status": "completed"
    },
    "tags": []
   },
   "outputs": [],
   "source": [
    "df['cut'].replace(['Ideal','Premium','Good'],[1,2,3],inplace=True)# Method 2 for replacing"
   ]
  },
  {
   "cell_type": "code",
   "execution_count": 46,
   "id": "febaea6e",
   "metadata": {
    "execution": {
     "iopub.execute_input": "2023-06-24T14:20:53.783458Z",
     "iopub.status.busy": "2023-06-24T14:20:53.783031Z",
     "iopub.status.idle": "2023-06-24T14:20:53.798990Z",
     "shell.execute_reply": "2023-06-24T14:20:53.798262Z"
    },
    "papermill": {
     "duration": 0.045591,
     "end_time": "2023-06-24T14:20:53.801476",
     "exception": false,
     "start_time": "2023-06-24T14:20:53.755885",
     "status": "completed"
    },
    "tags": []
   },
   "outputs": [],
   "source": [
    "df['clarity'].replace(['VVS1','VVS2','VS2','SI1','SI2','I1'],[1,2,3,4,5,6],inplace=True)"
   ]
  },
  {
   "cell_type": "code",
   "execution_count": 47,
   "id": "2cc8e646",
   "metadata": {
    "execution": {
     "iopub.execute_input": "2023-06-24T14:20:53.853595Z",
     "iopub.status.busy": "2023-06-24T14:20:53.852634Z",
     "iopub.status.idle": "2023-06-24T14:20:53.897897Z",
     "shell.execute_reply": "2023-06-24T14:20:53.896911Z"
    },
    "papermill": {
     "duration": 0.07362,
     "end_time": "2023-06-24T14:20:53.899958",
     "exception": false,
     "start_time": "2023-06-24T14:20:53.826338",
     "status": "completed"
    },
    "tags": []
   },
   "outputs": [
    {
     "data": {
      "text/html": [
       "<div>\n",
       "<style scoped>\n",
       "    .dataframe tbody tr th:only-of-type {\n",
       "        vertical-align: middle;\n",
       "    }\n",
       "\n",
       "    .dataframe tbody tr th {\n",
       "        vertical-align: top;\n",
       "    }\n",
       "\n",
       "    .dataframe thead th {\n",
       "        text-align: right;\n",
       "    }\n",
       "</style>\n",
       "<table border=\"1\" class=\"dataframe\">\n",
       "  <thead>\n",
       "    <tr style=\"text-align: right;\">\n",
       "      <th></th>\n",
       "      <th>count</th>\n",
       "      <th>mean</th>\n",
       "      <th>std</th>\n",
       "      <th>min</th>\n",
       "      <th>25%</th>\n",
       "      <th>50%</th>\n",
       "      <th>75%</th>\n",
       "      <th>max</th>\n",
       "    </tr>\n",
       "  </thead>\n",
       "  <tbody>\n",
       "    <tr>\n",
       "      <th>carat</th>\n",
       "      <td>26967.0</td>\n",
       "      <td>0.798375</td>\n",
       "      <td>0.477745</td>\n",
       "      <td>0.20</td>\n",
       "      <td>0.40</td>\n",
       "      <td>0.70</td>\n",
       "      <td>1.05</td>\n",
       "      <td>4.50</td>\n",
       "    </tr>\n",
       "    <tr>\n",
       "      <th>cut</th>\n",
       "      <td>26967.0</td>\n",
       "      <td>1.913042</td>\n",
       "      <td>0.841232</td>\n",
       "      <td>1.00</td>\n",
       "      <td>1.00</td>\n",
       "      <td>2.00</td>\n",
       "      <td>3.00</td>\n",
       "      <td>3.00</td>\n",
       "    </tr>\n",
       "    <tr>\n",
       "      <th>color</th>\n",
       "      <td>26967.0</td>\n",
       "      <td>2.211814</td>\n",
       "      <td>1.142909</td>\n",
       "      <td>1.00</td>\n",
       "      <td>1.00</td>\n",
       "      <td>2.00</td>\n",
       "      <td>3.00</td>\n",
       "      <td>5.00</td>\n",
       "    </tr>\n",
       "    <tr>\n",
       "      <th>clarity</th>\n",
       "      <td>26967.0</td>\n",
       "      <td>3.327029</td>\n",
       "      <td>1.198514</td>\n",
       "      <td>1.00</td>\n",
       "      <td>3.00</td>\n",
       "      <td>3.00</td>\n",
       "      <td>4.00</td>\n",
       "      <td>6.00</td>\n",
       "    </tr>\n",
       "    <tr>\n",
       "      <th>depth</th>\n",
       "      <td>26967.0</td>\n",
       "      <td>61.746564</td>\n",
       "      <td>1.394509</td>\n",
       "      <td>50.80</td>\n",
       "      <td>61.10</td>\n",
       "      <td>61.80</td>\n",
       "      <td>62.50</td>\n",
       "      <td>73.60</td>\n",
       "    </tr>\n",
       "    <tr>\n",
       "      <th>table</th>\n",
       "      <td>26967.0</td>\n",
       "      <td>57.456080</td>\n",
       "      <td>2.232068</td>\n",
       "      <td>49.00</td>\n",
       "      <td>56.00</td>\n",
       "      <td>57.00</td>\n",
       "      <td>59.00</td>\n",
       "      <td>79.00</td>\n",
       "    </tr>\n",
       "    <tr>\n",
       "      <th>x</th>\n",
       "      <td>26967.0</td>\n",
       "      <td>5.730487</td>\n",
       "      <td>1.126897</td>\n",
       "      <td>3.73</td>\n",
       "      <td>4.71</td>\n",
       "      <td>5.69</td>\n",
       "      <td>6.55</td>\n",
       "      <td>10.23</td>\n",
       "    </tr>\n",
       "    <tr>\n",
       "      <th>y</th>\n",
       "      <td>26967.0</td>\n",
       "      <td>5.734204</td>\n",
       "      <td>1.164488</td>\n",
       "      <td>3.71</td>\n",
       "      <td>4.72</td>\n",
       "      <td>5.71</td>\n",
       "      <td>6.54</td>\n",
       "      <td>58.90</td>\n",
       "    </tr>\n",
       "    <tr>\n",
       "      <th>z</th>\n",
       "      <td>26967.0</td>\n",
       "      <td>3.539232</td>\n",
       "      <td>0.717718</td>\n",
       "      <td>1.07</td>\n",
       "      <td>2.90</td>\n",
       "      <td>3.52</td>\n",
       "      <td>4.04</td>\n",
       "      <td>31.80</td>\n",
       "    </tr>\n",
       "    <tr>\n",
       "      <th>price</th>\n",
       "      <td>26967.0</td>\n",
       "      <td>3939.518115</td>\n",
       "      <td>4024.864666</td>\n",
       "      <td>326.00</td>\n",
       "      <td>945.00</td>\n",
       "      <td>2375.00</td>\n",
       "      <td>5360.00</td>\n",
       "      <td>18818.00</td>\n",
       "    </tr>\n",
       "  </tbody>\n",
       "</table>\n",
       "</div>"
      ],
      "text/plain": [
       "           count         mean          std     min     25%      50%      75%  \\\n",
       "carat    26967.0     0.798375     0.477745    0.20    0.40     0.70     1.05   \n",
       "cut      26967.0     1.913042     0.841232    1.00    1.00     2.00     3.00   \n",
       "color    26967.0     2.211814     1.142909    1.00    1.00     2.00     3.00   \n",
       "clarity  26967.0     3.327029     1.198514    1.00    3.00     3.00     4.00   \n",
       "depth    26967.0    61.746564     1.394509   50.80   61.10    61.80    62.50   \n",
       "table    26967.0    57.456080     2.232068   49.00   56.00    57.00    59.00   \n",
       "x        26967.0     5.730487     1.126897    3.73    4.71     5.69     6.55   \n",
       "y        26967.0     5.734204     1.164488    3.71    4.72     5.71     6.54   \n",
       "z        26967.0     3.539232     0.717718    1.07    2.90     3.52     4.04   \n",
       "price    26967.0  3939.518115  4024.864666  326.00  945.00  2375.00  5360.00   \n",
       "\n",
       "              max  \n",
       "carat        4.50  \n",
       "cut          3.00  \n",
       "color        5.00  \n",
       "clarity      6.00  \n",
       "depth       73.60  \n",
       "table       79.00  \n",
       "x           10.23  \n",
       "y           58.90  \n",
       "z           31.80  \n",
       "price    18818.00  "
      ]
     },
     "execution_count": 47,
     "metadata": {},
     "output_type": "execute_result"
    }
   ],
   "source": [
    "df.describe().T"
   ]
  },
  {
   "cell_type": "markdown",
   "id": "a81206c6",
   "metadata": {
    "papermill": {
     "duration": 0.024462,
     "end_time": "2023-06-24T14:20:53.949579",
     "exception": false,
     "start_time": "2023-06-24T14:20:53.925117",
     "status": "completed"
    },
    "tags": []
   },
   "source": [
    "# Ready for Machine Learning 💪"
   ]
  },
  {
   "cell_type": "code",
   "execution_count": null,
   "id": "8413f132",
   "metadata": {
    "papermill": {
     "duration": 0.025196,
     "end_time": "2023-06-24T14:20:53.999788",
     "exception": false,
     "start_time": "2023-06-24T14:20:53.974592",
     "status": "completed"
    },
    "tags": []
   },
   "outputs": [],
   "source": []
  },
  {
   "cell_type": "code",
   "execution_count": null,
   "id": "ed7d1dbf",
   "metadata": {
    "papermill": {
     "duration": 0.023484,
     "end_time": "2023-06-24T14:20:54.047370",
     "exception": false,
     "start_time": "2023-06-24T14:20:54.023886",
     "status": "completed"
    },
    "tags": []
   },
   "outputs": [],
   "source": []
  }
 ],
 "metadata": {
  "kernelspec": {
   "display_name": "Python 3",
   "language": "python",
   "name": "python3"
  },
  "language_info": {
   "codemirror_mode": {
    "name": "ipython",
    "version": 3
   },
   "file_extension": ".py",
   "mimetype": "text/x-python",
   "name": "python",
   "nbconvert_exporter": "python",
   "pygments_lexer": "ipython3",
   "version": "3.10.10"
  },
  "papermill": {
   "default_parameters": {},
   "duration": 22.216361,
   "end_time": "2023-06-24T14:20:55.297062",
   "environment_variables": {},
   "exception": null,
   "input_path": "__notebook__.ipynb",
   "output_path": "__notebook__.ipynb",
   "parameters": {},
   "start_time": "2023-06-24T14:20:33.080701",
   "version": "2.4.0"
  }
 },
 "nbformat": 4,
 "nbformat_minor": 5
}
